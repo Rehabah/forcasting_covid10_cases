{
  "nbformat": 4,
  "nbformat_minor": 0,
  "metadata": {
    "colab": {
      "name": "Copy of covid_pred.ipynb",
      "provenance": [],
      "collapsed_sections": [],
      "authorship_tag": "ABX9TyNsDmVdhBsCPax0QYc/V8YB"
    },
    "kernelspec": {
      "name": "python3",
      "display_name": "Python 3"
    },
    "language_info": {
      "name": "python"
    }
  },
  "cells": [
    {
      "cell_type": "code",
      "metadata": {
        "id": "XID4nicY8i3S"
      },
      "source": [
        "import pandas as pd\n",
        "import numpy as np\n",
        "from google.colab import drive\n",
        "drive.mount(\"/content/gdrive\")"
      ],
      "execution_count": null,
      "outputs": []
    },
    {
      "cell_type": "code",
      "metadata": {
        "id": "bsIem9UF_n0q"
      },
      "source": [
        "import pandas as pd\n",
        "cov_data=pd.read_csv('/content/gdrive/My Drive/Rabab_covid/data_covid.csv',sep=';')"
      ],
      "execution_count": null,
      "outputs": []
    },
    {
      "cell_type": "code",
      "metadata": {
        "colab": {
          "base_uri": "https://localhost:8080/"
        },
        "id": "u6cruTYm_wni",
        "outputId": "92a3c668-4adc-4ab2-efed-e201afb73245"
      },
      "source": [
        "len(cov_data)"
      ],
      "execution_count": null,
      "outputs": [
        {
          "output_type": "execute_result",
          "data": {
            "text/plain": [
              "137417"
            ]
          },
          "metadata": {},
          "execution_count": 61
        }
      ]
    },
    {
      "cell_type": "code",
      "metadata": {
        "id": "419GV46n_4_j"
      },
      "source": [
        "cov_data"
      ],
      "execution_count": null,
      "outputs": []
    },
    {
      "cell_type": "code",
      "metadata": {
        "colab": {
          "base_uri": "https://localhost:8080/"
        },
        "id": "mvCimhDT_6aJ",
        "outputId": "0499dc8a-616a-4075-c044-37e6999cf091"
      },
      "source": [
        "cov_data.columns"
      ],
      "execution_count": null,
      "outputs": [
        {
          "output_type": "execute_result",
          "data": {
            "text/plain": [
              "Index(['Daily / Cumulative', 'Indicator', 'Date', 'Event', 'City', 'Region',\n",
              "       'Cases (person)'],\n",
              "      dtype='object')"
            ]
          },
          "metadata": {},
          "execution_count": 70
        }
      ]
    },
    {
      "cell_type": "code",
      "metadata": {
        "colab": {
          "base_uri": "https://localhost:8080/"
        },
        "id": "RRLhl33u_8cY",
        "outputId": "e7777b87-58f1-4c40-9b26-7d45e1155c8f"
      },
      "source": [
        "cov_data.shape"
      ],
      "execution_count": null,
      "outputs": [
        {
          "output_type": "execute_result",
          "data": {
            "text/plain": [
              "(89971, 7)"
            ]
          },
          "metadata": {},
          "execution_count": 6
        }
      ]
    },
    {
      "cell_type": "code",
      "metadata": {
        "id": "BFFfRrrI_9gV"
      },
      "source": [
        "#cov_data['Cases(person)'].sum()"
      ],
      "execution_count": null,
      "outputs": []
    },
    {
      "cell_type": "code",
      "metadata": {
        "colab": {
          "base_uri": "https://localhost:8080/"
        },
        "id": "6DjjSgcIAqkn",
        "outputId": "4be1d79e-0ef2-48c3-d1e1-d83df28ed1ad"
      },
      "source": [
        "cov_data['Indicator'].unique()"
      ],
      "execution_count": null,
      "outputs": [
        {
          "output_type": "execute_result",
          "data": {
            "text/plain": [
              "array(['Cases'], dtype=object)"
            ]
          },
          "metadata": {},
          "execution_count": 64
        }
      ]
    },
    {
      "cell_type": "code",
      "metadata": {
        "colab": {
          "base_uri": "https://localhost:8080/"
        },
        "id": "MyjQfwKkPMpO",
        "outputId": "bd6bd17c-11dc-498f-95a5-dfc45984f9b0"
      },
      "source": [
        "cov_data['Daily / Cumulative'].unique()"
      ],
      "execution_count": null,
      "outputs": [
        {
          "output_type": "execute_result",
          "data": {
            "text/plain": [
              "array(['Daily', 'Cumulative'], dtype=object)"
            ]
          },
          "metadata": {},
          "execution_count": 63
        }
      ]
    },
    {
      "cell_type": "code",
      "metadata": {
        "id": "U6qtbCQYAr_g"
      },
      "source": [
        "cov_data_sub=cov_data[(cov_data['Daily / Cumulative']=='Daily')& (cov_data['Indicator']=='Cases')&(cov_data['Region']!='Total') ]"
      ],
      "execution_count": null,
      "outputs": []
    },
    {
      "cell_type": "code",
      "metadata": {
        "colab": {
          "base_uri": "https://localhost:8080/"
        },
        "id": "Pq5ydtcmPW7Y",
        "outputId": "413c385d-5c33-4bcc-b40f-16696c00075e"
      },
      "source": [
        "len(cov_data_sub)"
      ],
      "execution_count": null,
      "outputs": [
        {
          "output_type": "execute_result",
          "data": {
            "text/plain": [
              "42710"
            ]
          },
          "metadata": {},
          "execution_count": 66
        }
      ]
    },
    {
      "cell_type": "code",
      "metadata": {
        "colab": {
          "base_uri": "https://localhost:8080/"
        },
        "id": "qYZMf9tQ9iJH",
        "outputId": "282abd22-0146-4ca7-c697-78302b74299a"
      },
      "source": [
        "print('max',cov_data_sub['Date'].max())\n",
        "print('min',cov_data_sub['Date'].min())"
      ],
      "execution_count": null,
      "outputs": [
        {
          "output_type": "stream",
          "text": [
            "max 2021-08-23\n",
            "min 2020-03-02\n"
          ],
          "name": "stdout"
        }
      ]
    },
    {
      "cell_type": "code",
      "metadata": {
        "id": "CTZNUZAcPxyL"
      },
      "source": [
        "cov_data_sub = cov_data_sub.rename(columns={'Cases (person)': 'Cases(person)'})"
      ],
      "execution_count": null,
      "outputs": []
    },
    {
      "cell_type": "code",
      "metadata": {
        "id": "DkWVOuyhBW_T"
      },
      "source": [
        "cov_data_sub1=cov_data_sub.groupby(['Date','Region'],as_index=False)['Cases(person)'].sum()"
      ],
      "execution_count": null,
      "outputs": []
    },
    {
      "cell_type": "code",
      "metadata": {
        "colab": {
          "base_uri": "https://localhost:8080/",
          "height": 424
        },
        "id": "eMOHGRjKBhVh",
        "outputId": "c3461520-771d-4365-9d15-f0b48e1da7ba"
      },
      "source": [
        "cov_data_sub1"
      ],
      "execution_count": null,
      "outputs": [
        {
          "output_type": "execute_result",
          "data": {
            "text/html": [
              "<div>\n",
              "<style scoped>\n",
              "    .dataframe tbody tr th:only-of-type {\n",
              "        vertical-align: middle;\n",
              "    }\n",
              "\n",
              "    .dataframe tbody tr th {\n",
              "        vertical-align: top;\n",
              "    }\n",
              "\n",
              "    .dataframe thead th {\n",
              "        text-align: right;\n",
              "    }\n",
              "</style>\n",
              "<table border=\"1\" class=\"dataframe\">\n",
              "  <thead>\n",
              "    <tr style=\"text-align: right;\">\n",
              "      <th></th>\n",
              "      <th>Date</th>\n",
              "      <th>Region</th>\n",
              "      <th>Cases(person)</th>\n",
              "    </tr>\n",
              "  </thead>\n",
              "  <tbody>\n",
              "    <tr>\n",
              "      <th>0</th>\n",
              "      <td>2020-03-02</td>\n",
              "      <td>Eastern Region</td>\n",
              "      <td>1</td>\n",
              "    </tr>\n",
              "    <tr>\n",
              "      <th>1</th>\n",
              "      <td>2020-03-04</td>\n",
              "      <td>Eastern Region</td>\n",
              "      <td>1</td>\n",
              "    </tr>\n",
              "    <tr>\n",
              "      <th>2</th>\n",
              "      <td>2020-03-05</td>\n",
              "      <td>Eastern Region</td>\n",
              "      <td>3</td>\n",
              "    </tr>\n",
              "    <tr>\n",
              "      <th>3</th>\n",
              "      <td>2020-03-07</td>\n",
              "      <td>Eastern Region</td>\n",
              "      <td>2</td>\n",
              "    </tr>\n",
              "    <tr>\n",
              "      <th>4</th>\n",
              "      <td>2020-03-08</td>\n",
              "      <td>Eastern Region</td>\n",
              "      <td>4</td>\n",
              "    </tr>\n",
              "    <tr>\n",
              "      <th>...</th>\n",
              "      <td>...</td>\n",
              "      <td>...</td>\n",
              "      <td>...</td>\n",
              "    </tr>\n",
              "    <tr>\n",
              "      <th>6432</th>\n",
              "      <td>2021-08-23</td>\n",
              "      <td>Jazan</td>\n",
              "      <td>34</td>\n",
              "    </tr>\n",
              "    <tr>\n",
              "      <th>6433</th>\n",
              "      <td>2021-08-23</td>\n",
              "      <td>Makkah Al Mukarramah</td>\n",
              "      <td>66</td>\n",
              "    </tr>\n",
              "    <tr>\n",
              "      <th>6434</th>\n",
              "      <td>2021-08-23</td>\n",
              "      <td>Najran</td>\n",
              "      <td>16</td>\n",
              "    </tr>\n",
              "    <tr>\n",
              "      <th>6435</th>\n",
              "      <td>2021-08-23</td>\n",
              "      <td>Northern Borders</td>\n",
              "      <td>11</td>\n",
              "    </tr>\n",
              "    <tr>\n",
              "      <th>6436</th>\n",
              "      <td>2021-08-23</td>\n",
              "      <td>Tabuk</td>\n",
              "      <td>10</td>\n",
              "    </tr>\n",
              "  </tbody>\n",
              "</table>\n",
              "<p>6437 rows × 3 columns</p>\n",
              "</div>"
            ],
            "text/plain": [
              "            Date                Region  Cases(person)\n",
              "0     2020-03-02        Eastern Region              1\n",
              "1     2020-03-04        Eastern Region              1\n",
              "2     2020-03-05        Eastern Region              3\n",
              "3     2020-03-07        Eastern Region              2\n",
              "4     2020-03-08        Eastern Region              4\n",
              "...          ...                   ...            ...\n",
              "6432  2021-08-23                 Jazan             34\n",
              "6433  2021-08-23  Makkah Al Mukarramah             66\n",
              "6434  2021-08-23                Najran             16\n",
              "6435  2021-08-23      Northern Borders             11\n",
              "6436  2021-08-23                 Tabuk             10\n",
              "\n",
              "[6437 rows x 3 columns]"
            ]
          },
          "metadata": {},
          "execution_count": 73
        }
      ]
    },
    {
      "cell_type": "code",
      "metadata": {
        "id": "f5uA4pLmAtKz"
      },
      "source": [
        "import matplotlib.pyplot as plt\n",
        "import seaborn as sns\n",
        "import numpy as np\n",
        "from sklearn.model_selection import train_test_split\n",
        "from sklearn import metrics\n",
        "#from sklearn.metrics import classification_report, confusion_matrix\n",
        "#from sklearn.tree import DecisionTreeClassifier\n",
        "from sklearn.metrics import accuracy_score\n",
        "#from sklearn import tree\n",
        "#from sklearn.model_selection import cross_val_score\n",
        "#from sklearn.metrics import precision_recall_curve\n",
        "#from sklearn.metrics import average_precision_score\n",
        "#from sklearn.metrics import roc_curve, roc_auc_score, auc\n",
        "#from sklearn.ensemble import RandomForestClassifier\n",
        "# from sklearn.model_selection import RandomizedSearchCV\n",
        "# from sklearn.model_selection import GridSearchCV\n",
        "# from sklearn.linear_model import LogisticRegression\n",
        "# from scipy.stats import randint\n",
        "# from sklearn.ensemble import ExtraTreesClassifier\n",
        "# import joblib\n",
        "# from sklearn.tree import export_graphviz\n",
        "# from sklearn.ensemble import GradientBoostingClassifier\n",
        "# from sklearn import svm\n",
        "# from sklearn.feature_selection import RFE\n",
        "# from sklearn.feature_selection import mutual_info_classif\n",
        "# from sklearn.decomposition import PCA\n",
        "# from sklearn.model_selection import StratifiedKFold\n",
        "# from matplotlib.legend_handler import HandlerLine2D\n",
        "# from sklearn.neighbors import KNeighborsClassifier"
      ],
      "execution_count": null,
      "outputs": []
    },
    {
      "cell_type": "markdown",
      "metadata": {
        "id": "0VBXLXgtCYSX"
      },
      "source": [
        "Forcasting using linear regression"
      ]
    },
    {
      "cell_type": "markdown",
      "metadata": {
        "id": "E-9loJ7emeKe"
      },
      "source": [
        "LINEAR REGRESSING does not work well "
      ]
    },
    {
      "cell_type": "code",
      "metadata": {
        "id": "FzGGKSUhCUiG"
      },
      "source": [
        "cov_data_sub1.index = pd.to_datetime(cov_data_sub1.Date,format='%y/%m/%d', infer_datetime_format=True)\n",
        "cov_prl=cov_data_sub1.drop(['Date','class','year','day','month'],axis=1)"
      ],
      "execution_count": null,
      "outputs": []
    },
    {
      "cell_type": "code",
      "metadata": {
        "colab": {
          "base_uri": "https://localhost:8080/",
          "height": 455
        },
        "id": "QaNfKvyuCgvf",
        "outputId": "cc9efbf5-1452-4a62-af45-49e1a5f0f02d"
      },
      "source": [
        "cov_prl"
      ],
      "execution_count": null,
      "outputs": [
        {
          "output_type": "execute_result",
          "data": {
            "text/html": [
              "<div>\n",
              "<style scoped>\n",
              "    .dataframe tbody tr th:only-of-type {\n",
              "        vertical-align: middle;\n",
              "    }\n",
              "\n",
              "    .dataframe tbody tr th {\n",
              "        vertical-align: top;\n",
              "    }\n",
              "\n",
              "    .dataframe thead th {\n",
              "        text-align: right;\n",
              "    }\n",
              "</style>\n",
              "<table border=\"1\" class=\"dataframe\">\n",
              "  <thead>\n",
              "    <tr style=\"text-align: right;\">\n",
              "      <th></th>\n",
              "      <th>Region</th>\n",
              "      <th>Cases(person)</th>\n",
              "    </tr>\n",
              "    <tr>\n",
              "      <th>Date</th>\n",
              "      <th></th>\n",
              "      <th></th>\n",
              "    </tr>\n",
              "  </thead>\n",
              "  <tbody>\n",
              "    <tr>\n",
              "      <th>2020-03-02</th>\n",
              "      <td>6</td>\n",
              "      <td>1</td>\n",
              "    </tr>\n",
              "    <tr>\n",
              "      <th>2020-03-04</th>\n",
              "      <td>6</td>\n",
              "      <td>1</td>\n",
              "    </tr>\n",
              "    <tr>\n",
              "      <th>2020-03-05</th>\n",
              "      <td>6</td>\n",
              "      <td>3</td>\n",
              "    </tr>\n",
              "    <tr>\n",
              "      <th>2020-03-07</th>\n",
              "      <td>6</td>\n",
              "      <td>2</td>\n",
              "    </tr>\n",
              "    <tr>\n",
              "      <th>2020-03-08</th>\n",
              "      <td>6</td>\n",
              "      <td>4</td>\n",
              "    </tr>\n",
              "    <tr>\n",
              "      <th>...</th>\n",
              "      <td>...</td>\n",
              "      <td>...</td>\n",
              "    </tr>\n",
              "    <tr>\n",
              "      <th>2021-08-23</th>\n",
              "      <td>8</td>\n",
              "      <td>34</td>\n",
              "    </tr>\n",
              "    <tr>\n",
              "      <th>2021-08-23</th>\n",
              "      <td>9</td>\n",
              "      <td>66</td>\n",
              "    </tr>\n",
              "    <tr>\n",
              "      <th>2021-08-23</th>\n",
              "      <td>10</td>\n",
              "      <td>16</td>\n",
              "    </tr>\n",
              "    <tr>\n",
              "      <th>2021-08-23</th>\n",
              "      <td>11</td>\n",
              "      <td>11</td>\n",
              "    </tr>\n",
              "    <tr>\n",
              "      <th>2021-08-23</th>\n",
              "      <td>12</td>\n",
              "      <td>10</td>\n",
              "    </tr>\n",
              "  </tbody>\n",
              "</table>\n",
              "<p>6437 rows × 2 columns</p>\n",
              "</div>"
            ],
            "text/plain": [
              "            Region  Cases(person)\n",
              "Date                             \n",
              "2020-03-02       6              1\n",
              "2020-03-04       6              1\n",
              "2020-03-05       6              3\n",
              "2020-03-07       6              2\n",
              "2020-03-08       6              4\n",
              "...            ...            ...\n",
              "2021-08-23       8             34\n",
              "2021-08-23       9             66\n",
              "2021-08-23      10             16\n",
              "2021-08-23      11             11\n",
              "2021-08-23      12             10\n",
              "\n",
              "[6437 rows x 2 columns]"
            ]
          },
          "metadata": {},
          "execution_count": 77
        }
      ]
    },
    {
      "cell_type": "code",
      "metadata": {
        "colab": {
          "base_uri": "https://localhost:8080/"
        },
        "id": "PJAFUTewCxGJ",
        "outputId": "dd464cda-16c9-4d58-b9da-e2bc7d48425d"
      },
      "source": [
        "X = cov_prl.drop('Cases(person)',axis=1)#[['Region','Date']].values\n",
        "y = cov_prl['Cases(person)'].values\n",
        "from sklearn.model_selection import train_test_split\n",
        "x_train1,x_test1,y_train1,y_test1=train_test_split(X,y,test_size=0.3)\n",
        "print('xtrain',len(x_train1))\n",
        "print('xtrain',len(x_test1))"
      ],
      "execution_count": null,
      "outputs": [
        {
          "output_type": "stream",
          "text": [
            "xtrain 4505\n",
            "xtrain 1932\n"
          ],
          "name": "stdout"
        }
      ]
    },
    {
      "cell_type": "code",
      "metadata": {
        "colab": {
          "base_uri": "https://localhost:8080/"
        },
        "id": "39_O8tzDC0Om",
        "outputId": "363f6742-30c9-4778-bd78-4f572a95cb86"
      },
      "source": [
        "from sklearn.preprocessing import MinMaxScaler\n",
        "scaler = MinMaxScaler()\n",
        "scaler.fit(x_train1) \n",
        "scaled_train = scaler.transform(x_train1)#and divide every point by max value\n",
        "scaled_test = scaler.transform(x_test1)\n",
        "print(scaled_train[-5:])"
      ],
      "execution_count": null,
      "outputs": [
        {
          "output_type": "stream",
          "text": [
            "[[0.33333333]\n",
            " [0.75      ]\n",
            " [0.91666667]\n",
            " [0.41666667]\n",
            " [0.58333333]]\n"
          ],
          "name": "stdout"
        }
      ]
    },
    {
      "cell_type": "code",
      "metadata": {
        "colab": {
          "base_uri": "https://localhost:8080/"
        },
        "id": "UJZEKz9XC2p2",
        "outputId": "3b692954-f59f-41c4-edd8-f9fdb4be3261"
      },
      "source": [
        "from sklearn.linear_model import LinearRegression\n",
        "regressor =  LinearRegression()\n",
        "regressor.fit(x_train1,y_train1)"
      ],
      "execution_count": null,
      "outputs": [
        {
          "output_type": "execute_result",
          "data": {
            "text/plain": [
              "LinearRegression(copy_X=True, fit_intercept=True, n_jobs=None, normalize=False)"
            ]
          },
          "metadata": {},
          "execution_count": 29
        }
      ]
    },
    {
      "cell_type": "code",
      "metadata": {
        "id": "A_B7yXNjC5_f"
      },
      "source": [
        "y_pred = regressor.predict(x_test1)"
      ],
      "execution_count": null,
      "outputs": []
    },
    {
      "cell_type": "code",
      "metadata": {
        "colab": {
          "base_uri": "https://localhost:8080/"
        },
        "id": "iqNuqPuVC8JR",
        "outputId": "761c4e72-f576-40c4-91f5-8a09fc529f1d"
      },
      "source": [
        "y_pred"
      ],
      "execution_count": null,
      "outputs": [
        {
          "output_type": "execute_result",
          "data": {
            "text/plain": [
              "array([89.12583717, 88.09862121, 85.5305813 , ..., 89.63944515,\n",
              "       91.1802691 , 85.5305813 ])"
            ]
          },
          "metadata": {},
          "execution_count": 31
        }
      ]
    },
    {
      "cell_type": "code",
      "metadata": {
        "colab": {
          "base_uri": "https://localhost:8080/"
        },
        "id": "9b_MztDZ7hB5",
        "outputId": "c6d0eb2e-c2a3-4cb0-894c-94365ff00bd5"
      },
      "source": [
        "y_test1"
      ],
      "execution_count": null,
      "outputs": [
        {
          "output_type": "execute_result",
          "data": {
            "text/plain": [
              "array([ 7, 11, 22, ...,  6, 12, 63])"
            ]
          },
          "metadata": {},
          "execution_count": 26
        }
      ]
    },
    {
      "cell_type": "code",
      "metadata": {
        "colab": {
          "base_uri": "https://localhost:8080/"
        },
        "id": "Sr6b3j8LDAJG",
        "outputId": "c979ad3f-23e0-4b60-93d5-a93b4414a71b"
      },
      "source": [
        "from sklearn.metrics import mean_squared_error \n",
        "from sklearn.metrics import mean_squared_error, r2_score\n",
        "\n",
        "Mse = mean_squared_error(y_test1, y_pred)\n",
        "r2 = r2_score(y_test1, y_pred)\n",
        "\n",
        "print('slop', regressor.coef_)\n",
        "print(\"Intercept\", regressor.intercept_)\n",
        "print(\"MSE\", Mse)\n",
        "print('R2 score: ', r2)\n"
      ],
      "execution_count": null,
      "outputs": [
        {
          "output_type": "stream",
          "text": [
            "slop [-0.44963393]\n",
            "Intercept 85.75976583885345\n",
            "MSE 35561.46915674642\n",
            "R2 score:  -0.0012408150445475385\n"
          ],
          "name": "stdout"
        }
      ]
    },
    {
      "cell_type": "code",
      "metadata": {
        "colab": {
          "base_uri": "https://localhost:8080/"
        },
        "id": "dQ-rA1rKGw9h",
        "outputId": "870c6f8e-3cee-433d-8c30-2a0be73abf62"
      },
      "source": [
        "residual = y_test1 - y_pred\n",
        "np.where(residual> 0)\n",
        "#np.var((y_test1 - y_pred)) # 0.3125"
      ],
      "execution_count": null,
      "outputs": [
        {
          "output_type": "execute_result",
          "data": {
            "text/plain": [
              "(array([   0,    1,   11,   16,   17,   20,   29,   36,   38,   44,   51,\n",
              "          57,   59,   67,   74,   76,   79,   81,   85,   87,   88,   90,\n",
              "          95,   97,  100,  101,  102,  106,  108,  111,  113,  118,  123,\n",
              "         126,  139,  141,  142,  149,  151,  152,  164,  166,  168,  171,\n",
              "         172,  173,  181,  189,  190,  196,  202,  204,  210,  211,  212,\n",
              "         217,  219,  221,  222,  224,  230,  234,  236,  238,  241,  242,\n",
              "         261,  262,  267,  272,  274,  275,  278,  281,  282,  293,  294,\n",
              "         298,  299,  301,  302,  303,  315,  319,  321,  325,  326,  328,\n",
              "         329,  333,  334,  336,  340,  343,  347,  349,  353,  360,  362,\n",
              "         363,  364,  367,  369,  374,  375,  383,  386,  388,  394,  398,\n",
              "         400,  409,  423,  428,  431,  432,  436,  438,  439,  440,  445,\n",
              "         447,  457,  459,  462,  466,  468,  475,  478,  494,  497,  500,\n",
              "         501,  504,  505,  510,  512,  515,  516,  522,  527,  528,  529,\n",
              "         540,  546,  547,  553,  558,  561,  563,  574,  576,  581,  586,\n",
              "         591,  596,  597,  600,  603,  604,  609,  615,  616,  621,  623,\n",
              "         629,  635,  637,  638,  645,  648,  652,  654,  656,  662,  663,\n",
              "         666,  681,  682,  688,  692,  696,  699,  705,  707,  708,  709,\n",
              "         712,  714,  722,  724,  725,  731,  732,  737,  748,  749,  782,\n",
              "         794,  800,  806,  809,  810,  811,  812,  822,  829,  833,  841,\n",
              "         850,  858,  862,  863,  877,  881,  883,  884,  890,  894,  896,\n",
              "         900,  924,  927,  928,  934,  948,  949,  955,  956,  961,  963,\n",
              "         966,  969,  982,  983,  985,  993,  996,  997, 1006, 1007, 1008,\n",
              "        1010, 1011, 1013, 1016, 1019, 1020, 1023, 1026, 1027, 1035, 1036,\n",
              "        1040, 1043, 1047, 1056, 1060, 1067, 1072, 1097, 1099, 1108, 1112,\n",
              "        1117, 1120, 1125, 1129, 1131, 1136, 1138, 1139, 1140, 1147, 1148,\n",
              "        1149, 1157, 1158, 1165, 1166, 1167, 1169, 1172, 1173, 1179, 1184,\n",
              "        1196, 1197, 1198, 1208, 1213, 1214, 1218, 1220, 1234, 1239, 1241,\n",
              "        1245, 1246, 1250, 1259, 1264, 1274, 1282, 1292, 1300, 1301, 1304,\n",
              "        1309, 1327, 1328, 1336, 1342, 1343, 1348, 1352, 1363, 1366, 1381,\n",
              "        1384, 1387, 1389, 1390, 1391, 1398, 1401, 1410, 1414, 1416, 1436,\n",
              "        1440, 1444, 1446, 1450, 1451, 1452, 1464, 1465, 1466, 1470, 1484,\n",
              "        1489, 1515, 1518, 1519, 1523, 1534, 1538, 1540, 1542, 1554, 1559,\n",
              "        1563, 1569, 1572, 1575, 1582, 1584, 1586, 1587, 1590, 1591, 1597,\n",
              "        1601, 1610, 1611, 1616, 1620, 1621, 1632, 1646, 1648, 1654, 1655,\n",
              "        1675, 1679, 1680, 1682, 1685, 1686, 1688, 1691, 1698, 1699, 1703,\n",
              "        1707, 1713, 1717, 1718, 1730, 1732, 1737, 1741, 1743, 1747, 1752,\n",
              "        1753, 1756, 1760, 1762, 1765, 1766, 1770, 1779, 1783, 1784, 1785,\n",
              "        1786, 1788, 1798, 1801, 1802, 1810, 1811, 1812, 1815, 1826, 1833,\n",
              "        1835, 1838, 1840, 1845, 1849, 1850, 1855, 1858, 1862, 1864, 1866,\n",
              "        1867, 1878, 1882, 1886, 1891, 1895, 1896]),)"
            ]
          },
          "metadata": {},
          "execution_count": 32
        }
      ]
    },
    {
      "cell_type": "code",
      "metadata": {
        "colab": {
          "base_uri": "https://localhost:8080/",
          "height": 283
        },
        "id": "hDmO8CTNILjn",
        "outputId": "557d3a6f-79c7-4b25-bc1a-b61f04daf409"
      },
      "source": [
        "plt.scatter(residual,y_pred)"
      ],
      "execution_count": null,
      "outputs": [
        {
          "output_type": "execute_result",
          "data": {
            "text/plain": [
              "<matplotlib.collections.PathCollection at 0x7f6d50279fd0>"
            ]
          },
          "metadata": {},
          "execution_count": 33
        },
        {
          "output_type": "display_data",
          "data": {
            "image/png": "[encoded data removed]",
            "text/plain": [
              "<Figure size 432x288 with 1 Axes>"
            ]
          },
          "metadata": {
            "needs_background": "light"
          }
        }
      ]
    },
    {
      "cell_type": "code",
      "metadata": {
        "colab": {
          "base_uri": "https://localhost:8080/",
          "height": 297
        },
        "id": "ViBIDJ6rId_5",
        "outputId": "debf84fe-6eb5-4022-fe65-770117fd0614"
      },
      "source": [
        " sns.regplot(x=\"Region\", y='Cases(person)', data=cov_prl, x_jitter=.1)"
      ],
      "execution_count": null,
      "outputs": [
        {
          "output_type": "execute_result",
          "data": {
            "text/plain": [
              "<matplotlib.axes._subplots.AxesSubplot at 0x7f6d5013d310>"
            ]
          },
          "metadata": {},
          "execution_count": 34
        },
        {
          "output_type": "display_data",
          "data": {
            "image/png": "[encoded data removed]",
            "text/plain": [
              "<Figure size 432x288 with 1 Axes>"
            ]
          },
          "metadata": {
            "needs_background": "light"
          }
        }
      ]
    },
    {
      "cell_type": "code",
      "metadata": {
        "colab": {
          "base_uri": "https://localhost:8080/"
        },
        "id": "QTDKnEy4HpvR",
        "outputId": "02e25be7-558f-4d4d-c46a-75ca97ee28c8"
      },
      "source": [
        "y_test1"
      ],
      "execution_count": null,
      "outputs": [
        {
          "output_type": "execute_result",
          "data": {
            "text/plain": [
              "array([ 9,  3, 18, ..., 24, 37,  2])"
            ]
          },
          "metadata": {},
          "execution_count": 35
        }
      ]
    },
    {
      "cell_type": "code",
      "metadata": {
        "colab": {
          "base_uri": "https://localhost:8080/"
        },
        "id": "FGLPXgkuHsfb",
        "outputId": "8c13f11b-f3bd-4c63-9ec7-3c7385c6a57a"
      },
      "source": [
        "y_pred"
      ],
      "execution_count": null,
      "outputs": [
        {
          "output_type": "execute_result",
          "data": {
            "text/plain": [
              "array([88.92558205, 86.59401296, 86.8854591 , ..., 86.01112069,\n",
              "       88.92558205, 88.63413592])"
            ]
          },
          "metadata": {},
          "execution_count": 36
        }
      ]
    },
    {
      "cell_type": "code",
      "metadata": {
        "id": "WckZVNttDDPW"
      },
      "source": [
        "test_data=pd.read_excel('/content/gdrive/My Drive/Rabab_covid/test_data_updated.xlsx')"
      ],
      "execution_count": null,
      "outputs": []
    },
    {
      "cell_type": "code",
      "metadata": {
        "id": "2wN-cZsJTNJE"
      },
      "source": [
        "test_data=test_data[ (test_data['Region']!='Total') ]"
      ],
      "execution_count": null,
      "outputs": []
    },
    {
      "cell_type": "code",
      "metadata": {
        "colab": {
          "base_uri": "https://localhost:8080/"
        },
        "id": "6Vrj_Hd-CIiE",
        "outputId": "f9a2bcce-43b3-490a-adb2-b129aae7897f"
      },
      "source": [
        "test_data.columns"
      ],
      "execution_count": null,
      "outputs": [
        {
          "output_type": "execute_result",
          "data": {
            "text/plain": [
              "Index(['Indicator', 'Date', 'City', 'Region', 'Cases (person)'], dtype='object')"
            ]
          },
          "metadata": {},
          "execution_count": 30
        }
      ]
    },
    {
      "cell_type": "code",
      "metadata": {
        "id": "qPeSDm_2DGMA"
      },
      "source": [
        "test_data1=test_data.groupby(['Date','Region'],as_index=False)['Cases (person)'].sum()"
      ],
      "execution_count": null,
      "outputs": []
    },
    {
      "cell_type": "code",
      "metadata": {
        "id": "r9FV2M768J3W"
      },
      "source": [
        "test_data1"
      ],
      "execution_count": 6,
      "outputs": []
    },
    {
      "cell_type": "code",
      "metadata": {
        "id": "hSaa3GoTDH3C"
      },
      "source": [
        "test_data1.index = pd.to_datetime(test_data1.Date,format='%y/%m/%d', infer_datetime_format=True)\n",
        "test_data1['Region']=test_data1['Region'].astype('category')\n",
        "test_data1[\"Region\"] = test_data1[\"Region\"].cat.codes"
      ],
      "execution_count": null,
      "outputs": []
    },
    {
      "cell_type": "code",
      "metadata": {
        "id": "3qJHCvbEDLPz"
      },
      "source": [
        "test_data11=test_data1.drop(['Date','Cases (person)'],axis=1)"
      ],
      "execution_count": null,
      "outputs": []
    },
    {
      "cell_type": "code",
      "metadata": {
        "colab": {
          "base_uri": "https://localhost:8080/"
        },
        "id": "btCjusTzDMnp",
        "outputId": "0f93205f-6b27-48f7-dd90-eabbbfe6433b"
      },
      "source": [
        "# scaler = MinMaxScaler()\n",
        "# scaler.fit(test_data1) \n",
        "# scaled_train = scaler.transform(x_train1)#and divide every point by max value\n",
        "# print(scaled_train[-5:])"
      ],
      "execution_count": null,
      "outputs": [
        {
          "output_type": "stream",
          "text": [
            "[[0.38461538 1.27188082]\n",
            " [0.46153846 0.03910615]\n",
            " [0.46153846 0.26629423]\n",
            " [0.38461538 0.02420857]\n",
            " [0.46153846 0.03724395]]\n"
          ],
          "name": "stdout"
        }
      ]
    },
    {
      "cell_type": "code",
      "metadata": {
        "id": "KHh3-xFPDOAp"
      },
      "source": [
        "test_data"
      ],
      "execution_count": null,
      "outputs": []
    },
    {
      "cell_type": "code",
      "metadata": {
        "id": "zheibwaoDRWr"
      },
      "source": [
        "test_data1['reg_pred']=regressor.predict(test_data11)"
      ],
      "execution_count": null,
      "outputs": []
    },
    {
      "cell_type": "code",
      "metadata": {
        "colab": {
          "base_uri": "https://localhost:8080/",
          "height": 455
        },
        "id": "UXGHCwhRmakd",
        "outputId": "e087114c-7136-40d5-89c4-2ec39b48f037"
      },
      "source": [
        "test_data1"
      ],
      "execution_count": null,
      "outputs": [
        {
          "output_type": "execute_result",
          "data": {
            "text/html": [
              "<div>\n",
              "<style scoped>\n",
              "    .dataframe tbody tr th:only-of-type {\n",
              "        vertical-align: middle;\n",
              "    }\n",
              "\n",
              "    .dataframe tbody tr th {\n",
              "        vertical-align: top;\n",
              "    }\n",
              "\n",
              "    .dataframe thead th {\n",
              "        text-align: right;\n",
              "    }\n",
              "</style>\n",
              "<table border=\"1\" class=\"dataframe\">\n",
              "  <thead>\n",
              "    <tr style=\"text-align: right;\">\n",
              "      <th></th>\n",
              "      <th>Date</th>\n",
              "      <th>Region</th>\n",
              "      <th>Cases (person)</th>\n",
              "      <th>reg_pred</th>\n",
              "    </tr>\n",
              "    <tr>\n",
              "      <th>Date</th>\n",
              "      <th></th>\n",
              "      <th></th>\n",
              "      <th></th>\n",
              "      <th></th>\n",
              "    </tr>\n",
              "  </thead>\n",
              "  <tbody>\n",
              "    <tr>\n",
              "      <th>2021-08-17</th>\n",
              "      <td>2021-08-17</td>\n",
              "      <td>0</td>\n",
              "      <td>9</td>\n",
              "      <td>6.100125</td>\n",
              "    </tr>\n",
              "    <tr>\n",
              "      <th>2021-08-17</th>\n",
              "      <td>2021-08-17</td>\n",
              "      <td>1</td>\n",
              "      <td>10</td>\n",
              "      <td>11.297115</td>\n",
              "    </tr>\n",
              "    <tr>\n",
              "      <th>2021-08-17</th>\n",
              "      <td>2021-08-17</td>\n",
              "      <td>2</td>\n",
              "      <td>30</td>\n",
              "      <td>27.992737</td>\n",
              "    </tr>\n",
              "    <tr>\n",
              "      <th>2021-08-17</th>\n",
              "      <td>2021-08-17</td>\n",
              "      <td>3</td>\n",
              "      <td>41</td>\n",
              "      <td>49.100320</td>\n",
              "    </tr>\n",
              "    <tr>\n",
              "      <th>2021-08-17</th>\n",
              "      <td>2021-08-17</td>\n",
              "      <td>4</td>\n",
              "      <td>159</td>\n",
              "      <td>63.710466</td>\n",
              "    </tr>\n",
              "    <tr>\n",
              "      <th>...</th>\n",
              "      <td>...</td>\n",
              "      <td>...</td>\n",
              "      <td>...</td>\n",
              "      <td>...</td>\n",
              "    </tr>\n",
              "    <tr>\n",
              "      <th>2021-08-23</th>\n",
              "      <td>2021-08-23</td>\n",
              "      <td>8</td>\n",
              "      <td>34</td>\n",
              "      <td>38.099580</td>\n",
              "    </tr>\n",
              "    <tr>\n",
              "      <th>2021-08-23</th>\n",
              "      <td>2021-08-23</td>\n",
              "      <td>9</td>\n",
              "      <td>66</td>\n",
              "      <td>30.414805</td>\n",
              "    </tr>\n",
              "    <tr>\n",
              "      <th>2021-08-23</th>\n",
              "      <td>2021-08-23</td>\n",
              "      <td>10</td>\n",
              "      <td>16</td>\n",
              "      <td>21.437082</td>\n",
              "    </tr>\n",
              "    <tr>\n",
              "      <th>2021-08-23</th>\n",
              "      <td>2021-08-23</td>\n",
              "      <td>11</td>\n",
              "      <td>11</td>\n",
              "      <td>12.900128</td>\n",
              "    </tr>\n",
              "    <tr>\n",
              "      <th>2021-08-23</th>\n",
              "      <td>2021-08-23</td>\n",
              "      <td>12</td>\n",
              "      <td>10</td>\n",
              "      <td>9.099531</td>\n",
              "    </tr>\n",
              "  </tbody>\n",
              "</table>\n",
              "<p>91 rows × 4 columns</p>\n",
              "</div>"
            ],
            "text/plain": [
              "                 Date  Region  Cases (person)   reg_pred\n",
              "Date                                                    \n",
              "2021-08-17 2021-08-17       0               9   6.100125\n",
              "2021-08-17 2021-08-17       1              10  11.297115\n",
              "2021-08-17 2021-08-17       2              30  27.992737\n",
              "2021-08-17 2021-08-17       3              41  49.100320\n",
              "2021-08-17 2021-08-17       4             159  63.710466\n",
              "...               ...     ...             ...        ...\n",
              "2021-08-23 2021-08-23       8              34  38.099580\n",
              "2021-08-23 2021-08-23       9              66  30.414805\n",
              "2021-08-23 2021-08-23      10              16  21.437082\n",
              "2021-08-23 2021-08-23      11              11  12.900128\n",
              "2021-08-23 2021-08-23      12              10   9.099531\n",
              "\n",
              "[91 rows x 4 columns]"
            ]
          },
          "metadata": {},
          "execution_count": 37
        }
      ]
    },
    {
      "cell_type": "markdown",
      "metadata": {
        "id": "jgO7-AaHD81s"
      },
      "source": [
        "# **SVR **"
      ]
    },
    {
      "cell_type": "code",
      "metadata": {
        "id": "0Z0P-7Q39eoW"
      },
      "source": [
        "# kernel = ['poly']#, 'sigmoid', 'rbf'\n",
        "# c = [0.01, 0.1, 1, 10]\n",
        "# gamma = [0.01, 0.1, 1]\n",
        "# epsilon = [0.01, 0.1, 1]\n",
        "# shrinking = [True, False]\n",
        "# svm_grid = {'kernel': kernel, 'C': c, 'gamma' : gamma, 'epsilon': epsilon, 'shrinking' : shrinking}\n",
        "\n",
        "# svm = SVR()\n",
        "# svm_search = RandomizedSearchCV(svm, svm_grid, scoring='neg_mean_squared_error', cv=3, return_train_score=True, n_jobs=-1,  verbose=1)\n",
        "# svm_search.fit(x_train1, y_train1)"
      ],
      "execution_count": null,
      "outputs": []
    },
    {
      "cell_type": "code",
      "metadata": {
        "colab": {
          "base_uri": "https://localhost:8080/"
        },
        "id": "4Qy1Fh0nDTSC",
        "outputId": "9a985de2-d4fc-45c7-888a-ae8ab398358a"
      },
      "source": [
        "from sklearn.svm import SVR\n",
        "regressor = SVR(kernel = 'rbf')\n",
        "regressor.fit(x_train1, y_train1)"
      ],
      "execution_count": null,
      "outputs": [
        {
          "output_type": "execute_result",
          "data": {
            "text/plain": [
              "SVR(C=1.0, cache_size=200, coef0=0.0, degree=3, epsilon=0.1, gamma='scale',\n",
              "    kernel='rbf', max_iter=-1, shrinking=True, tol=0.001, verbose=False)"
            ]
          },
          "metadata": {},
          "execution_count": 79
        }
      ]
    },
    {
      "cell_type": "code",
      "metadata": {
        "id": "3TZinrwSEClT"
      },
      "source": [
        "y_pr=np.round(regressor.predict(x_test1),0)"
      ],
      "execution_count": null,
      "outputs": []
    },
    {
      "cell_type": "code",
      "metadata": {
        "colab": {
          "base_uri": "https://localhost:8080/"
        },
        "id": "AYVAxxvCERqo",
        "outputId": "8603ecfa-dc98-44a1-a133-3f5b39c98534"
      },
      "source": [
        "y_pr"
      ],
      "execution_count": null,
      "outputs": [
        {
          "output_type": "execute_result",
          "data": {
            "text/plain": [
              "array([39., 64., 28., ..., 12., 49., 58.])"
            ]
          },
          "metadata": {},
          "execution_count": 81
        }
      ]
    },
    {
      "cell_type": "code",
      "metadata": {
        "colab": {
          "base_uri": "https://localhost:8080/"
        },
        "id": "-Cf1WaoJEjbj",
        "outputId": "9d8df01f-5505-4bbf-e5ec-0f5ae7d83463"
      },
      "source": [
        "from sklearn.metrics import mean_squared_error \n",
        "\n",
        "Mse = mean_squared_error(y_test1, y_pr)\n",
        "print(\"Intercept\", regressor.intercept_)\n",
        "print(\"MSE\", Mse)\n"
      ],
      "execution_count": null,
      "outputs": [
        {
          "output_type": "stream",
          "text": [
            "Intercept [30.39879682]\n",
            "MSE 31238.791407867495\n"
          ],
          "name": "stdout"
        }
      ]
    },
    {
      "cell_type": "code",
      "metadata": {
        "colab": {
          "base_uri": "https://localhost:8080/"
        },
        "id": "Vp_IfJBHEV6A",
        "outputId": "070bcc90-73a6-4b10-86a9-cc59246d9566"
      },
      "source": [
        "y_test1-y_pr"
      ],
      "execution_count": null,
      "outputs": [
        {
          "output_type": "execute_result",
          "data": {
            "text/plain": [
              "array([ 22., -39., -50., ...,   4., -35., -50.])"
            ]
          },
          "metadata": {},
          "execution_count": 23
        }
      ]
    },
    {
      "cell_type": "code",
      "metadata": {
        "id": "z6e5CACKEXgl"
      },
      "source": [
        "test_data1['svr_pred']=np.round(regressor.predict(test_data11),0)"
      ],
      "execution_count": null,
      "outputs": []
    },
    {
      "cell_type": "code",
      "metadata": {
        "id": "Yu-ESxgqEp44"
      },
      "source": [
        "test_data1.to_excel('/content/gdrive/My Drive/predicted_sve.xlsx',index=True,encoding='utf-8')"
      ],
      "execution_count": null,
      "outputs": []
    },
    {
      "cell_type": "code",
      "metadata": {
        "id": "3MFVczf9EfCG",
        "colab": {
          "base_uri": "https://localhost:8080/",
          "height": 455
        },
        "outputId": "805b04be-72d1-4df0-e4ad-261215e58cc3"
      },
      "source": [
        "test_data1"
      ],
      "execution_count": null,
      "outputs": [
        {
          "output_type": "execute_result",
          "data": {
            "text/html": [
              "<div>\n",
              "<style scoped>\n",
              "    .dataframe tbody tr th:only-of-type {\n",
              "        vertical-align: middle;\n",
              "    }\n",
              "\n",
              "    .dataframe tbody tr th {\n",
              "        vertical-align: top;\n",
              "    }\n",
              "\n",
              "    .dataframe thead th {\n",
              "        text-align: right;\n",
              "    }\n",
              "</style>\n",
              "<table border=\"1\" class=\"dataframe\">\n",
              "  <thead>\n",
              "    <tr style=\"text-align: right;\">\n",
              "      <th></th>\n",
              "      <th>Date</th>\n",
              "      <th>Region</th>\n",
              "      <th>Cases (person)</th>\n",
              "      <th>svr_pred</th>\n",
              "    </tr>\n",
              "    <tr>\n",
              "      <th>Date</th>\n",
              "      <th></th>\n",
              "      <th></th>\n",
              "      <th></th>\n",
              "      <th></th>\n",
              "    </tr>\n",
              "  </thead>\n",
              "  <tbody>\n",
              "    <tr>\n",
              "      <th>2021-08-17</th>\n",
              "      <td>2021-08-17</td>\n",
              "      <td>0</td>\n",
              "      <td>9</td>\n",
              "      <td>7.0</td>\n",
              "    </tr>\n",
              "    <tr>\n",
              "      <th>2021-08-17</th>\n",
              "      <td>2021-08-17</td>\n",
              "      <td>1</td>\n",
              "      <td>10</td>\n",
              "      <td>11.0</td>\n",
              "    </tr>\n",
              "    <tr>\n",
              "      <th>2021-08-17</th>\n",
              "      <td>2021-08-17</td>\n",
              "      <td>2</td>\n",
              "      <td>30</td>\n",
              "      <td>28.0</td>\n",
              "    </tr>\n",
              "    <tr>\n",
              "      <th>2021-08-17</th>\n",
              "      <td>2021-08-17</td>\n",
              "      <td>3</td>\n",
              "      <td>41</td>\n",
              "      <td>49.0</td>\n",
              "    </tr>\n",
              "    <tr>\n",
              "      <th>2021-08-17</th>\n",
              "      <td>2021-08-17</td>\n",
              "      <td>4</td>\n",
              "      <td>159</td>\n",
              "      <td>64.0</td>\n",
              "    </tr>\n",
              "    <tr>\n",
              "      <th>...</th>\n",
              "      <td>...</td>\n",
              "      <td>...</td>\n",
              "      <td>...</td>\n",
              "      <td>...</td>\n",
              "    </tr>\n",
              "    <tr>\n",
              "      <th>2021-08-23</th>\n",
              "      <td>2021-08-23</td>\n",
              "      <td>8</td>\n",
              "      <td>34</td>\n",
              "      <td>39.0</td>\n",
              "    </tr>\n",
              "    <tr>\n",
              "      <th>2021-08-23</th>\n",
              "      <td>2021-08-23</td>\n",
              "      <td>9</td>\n",
              "      <td>66</td>\n",
              "      <td>31.0</td>\n",
              "    </tr>\n",
              "    <tr>\n",
              "      <th>2021-08-23</th>\n",
              "      <td>2021-08-23</td>\n",
              "      <td>10</td>\n",
              "      <td>16</td>\n",
              "      <td>21.0</td>\n",
              "    </tr>\n",
              "    <tr>\n",
              "      <th>2021-08-23</th>\n",
              "      <td>2021-08-23</td>\n",
              "      <td>11</td>\n",
              "      <td>11</td>\n",
              "      <td>12.0</td>\n",
              "    </tr>\n",
              "    <tr>\n",
              "      <th>2021-08-23</th>\n",
              "      <td>2021-08-23</td>\n",
              "      <td>12</td>\n",
              "      <td>10</td>\n",
              "      <td>8.0</td>\n",
              "    </tr>\n",
              "  </tbody>\n",
              "</table>\n",
              "<p>91 rows × 4 columns</p>\n",
              "</div>"
            ],
            "text/plain": [
              "                 Date  Region  Cases (person)  svr_pred\n",
              "Date                                                   \n",
              "2021-08-17 2021-08-17       0               9       7.0\n",
              "2021-08-17 2021-08-17       1              10      11.0\n",
              "2021-08-17 2021-08-17       2              30      28.0\n",
              "2021-08-17 2021-08-17       3              41      49.0\n",
              "2021-08-17 2021-08-17       4             159      64.0\n",
              "...               ...     ...             ...       ...\n",
              "2021-08-23 2021-08-23       8              34      39.0\n",
              "2021-08-23 2021-08-23       9              66      31.0\n",
              "2021-08-23 2021-08-23      10              16      21.0\n",
              "2021-08-23 2021-08-23      11              11      12.0\n",
              "2021-08-23 2021-08-23      12              10       8.0\n",
              "\n",
              "[91 rows x 4 columns]"
            ]
          },
          "metadata": {},
          "execution_count": 84
        }
      ]
    },
    {
      "cell_type": "markdown",
      "metadata": {
        "id": "ahhGqH7WR1Gg"
      },
      "source": [
        "Forcasting using ARIMA and SARIMA"
      ]
    },
    {
      "cell_type": "code",
      "metadata": {
        "id": "j9BUVjgaMVtr"
      },
      "source": [
        "cov_data"
      ],
      "execution_count": null,
      "outputs": []
    },
    {
      "cell_type": "code",
      "metadata": {
        "colab": {
          "base_uri": "https://localhost:8080/"
        },
        "id": "AOy4LAeENDRY",
        "outputId": "4c4b823d-ec9f-4c62-e7ea-5f83213c5178"
      },
      "source": [
        "cov_data['Cases(person)'].unique()"
      ],
      "execution_count": null,
      "outputs": [
        {
          "output_type": "execute_result",
          "data": {
            "text/plain": [
              "array(['2', '1', '5', ..., '546', '409', '499'], dtype=object)"
            ]
          },
          "metadata": {},
          "execution_count": 52
        }
      ]
    },
    {
      "cell_type": "code",
      "metadata": {
        "id": "e6Eq2KusTGWz"
      },
      "source": [
        "#cov_data_sub=cov_data[ (cov_data['Indicator']=='Cases')&(cov_data['Region']!='Total') ]\n",
        "cov_data_sub=cov_data[(cov_data['Daily / Cumulative']=='Daily')& (cov_data['Indicator']=='Cases')&(cov_data['Region']!='Total') ]"
      ],
      "execution_count": null,
      "outputs": []
    },
    {
      "cell_type": "code",
      "metadata": {
        "id": "mgN4U2_wQVhr"
      },
      "source": [
        "cov_data_sub = cov_data_sub.rename(columns={'Cases (person)': 'Cases(person)'})"
      ],
      "execution_count": null,
      "outputs": []
    },
    {
      "cell_type": "code",
      "metadata": {
        "id": "bb1pRNhmTeBy"
      },
      "source": [
        "cov_data1=cov_data_sub.groupby(['Date'],as_index=False)['Cases(person)'].sum()#.plot(kind='bar')"
      ],
      "execution_count": null,
      "outputs": []
    },
    {
      "cell_type": "code",
      "metadata": {
        "id": "-GQXZrLDTfbR"
      },
      "source": [
        "cov_data1.index = pd.to_datetime(cov_data1.Date,format='%y/%m/%d', infer_datetime_format=True)"
      ],
      "execution_count": null,
      "outputs": []
    },
    {
      "cell_type": "code",
      "metadata": {
        "colab": {
          "base_uri": "https://localhost:8080/",
          "height": 455
        },
        "id": "q4H-KILITfd_",
        "outputId": "0f081077-8c2e-4bbf-8ced-71d8a5f42b6a"
      },
      "source": [
        "cov_data1"
      ],
      "execution_count": null,
      "outputs": [
        {
          "output_type": "execute_result",
          "data": {
            "text/html": [
              "<div>\n",
              "<style scoped>\n",
              "    .dataframe tbody tr th:only-of-type {\n",
              "        vertical-align: middle;\n",
              "    }\n",
              "\n",
              "    .dataframe tbody tr th {\n",
              "        vertical-align: top;\n",
              "    }\n",
              "\n",
              "    .dataframe thead th {\n",
              "        text-align: right;\n",
              "    }\n",
              "</style>\n",
              "<table border=\"1\" class=\"dataframe\">\n",
              "  <thead>\n",
              "    <tr style=\"text-align: right;\">\n",
              "      <th></th>\n",
              "      <th>Date</th>\n",
              "      <th>Cases(person)</th>\n",
              "    </tr>\n",
              "    <tr>\n",
              "      <th>Date</th>\n",
              "      <th></th>\n",
              "      <th></th>\n",
              "    </tr>\n",
              "  </thead>\n",
              "  <tbody>\n",
              "    <tr>\n",
              "      <th>2020-03-02</th>\n",
              "      <td>2020-03-02</td>\n",
              "      <td>1</td>\n",
              "    </tr>\n",
              "    <tr>\n",
              "      <th>2020-03-04</th>\n",
              "      <td>2020-03-04</td>\n",
              "      <td>1</td>\n",
              "    </tr>\n",
              "    <tr>\n",
              "      <th>2020-03-05</th>\n",
              "      <td>2020-03-05</td>\n",
              "      <td>3</td>\n",
              "    </tr>\n",
              "    <tr>\n",
              "      <th>2020-03-07</th>\n",
              "      <td>2020-03-07</td>\n",
              "      <td>2</td>\n",
              "    </tr>\n",
              "    <tr>\n",
              "      <th>2020-03-08</th>\n",
              "      <td>2020-03-08</td>\n",
              "      <td>4</td>\n",
              "    </tr>\n",
              "    <tr>\n",
              "      <th>...</th>\n",
              "      <td>...</td>\n",
              "      <td>...</td>\n",
              "    </tr>\n",
              "    <tr>\n",
              "      <th>2021-08-19</th>\n",
              "      <td>2021-08-19</td>\n",
              "      <td>458</td>\n",
              "    </tr>\n",
              "    <tr>\n",
              "      <th>2021-08-20</th>\n",
              "      <td>2021-08-20</td>\n",
              "      <td>409</td>\n",
              "    </tr>\n",
              "    <tr>\n",
              "      <th>2021-08-21</th>\n",
              "      <td>2021-08-21</td>\n",
              "      <td>384</td>\n",
              "    </tr>\n",
              "    <tr>\n",
              "      <th>2021-08-22</th>\n",
              "      <td>2021-08-22</td>\n",
              "      <td>360</td>\n",
              "    </tr>\n",
              "    <tr>\n",
              "      <th>2021-08-23</th>\n",
              "      <td>2021-08-23</td>\n",
              "      <td>353</td>\n",
              "    </tr>\n",
              "  </tbody>\n",
              "</table>\n",
              "<p>538 rows × 2 columns</p>\n",
              "</div>"
            ],
            "text/plain": [
              "                  Date  Cases(person)\n",
              "Date                                 \n",
              "2020-03-02  2020-03-02              1\n",
              "2020-03-04  2020-03-04              1\n",
              "2020-03-05  2020-03-05              3\n",
              "2020-03-07  2020-03-07              2\n",
              "2020-03-08  2020-03-08              4\n",
              "...                ...            ...\n",
              "2021-08-19  2021-08-19            458\n",
              "2021-08-20  2021-08-20            409\n",
              "2021-08-21  2021-08-21            384\n",
              "2021-08-22  2021-08-22            360\n",
              "2021-08-23  2021-08-23            353\n",
              "\n",
              "[538 rows x 2 columns]"
            ]
          },
          "metadata": {},
          "execution_count": 90
        }
      ]
    },
    {
      "cell_type": "code",
      "metadata": {
        "colab": {
          "base_uri": "https://localhost:8080/",
          "height": 455
        },
        "id": "00cgxyrNTfgq",
        "outputId": "c221c037-a070-4d89-86e1-cbf8eef18e3a"
      },
      "source": [
        "cov_prl=cov_data1.drop(['Date'],axis=1)\n",
        "cov_prl.sort_values(\"Date\")"
      ],
      "execution_count": null,
      "outputs": [
        {
          "output_type": "execute_result",
          "data": {
            "text/html": [
              "<div>\n",
              "<style scoped>\n",
              "    .dataframe tbody tr th:only-of-type {\n",
              "        vertical-align: middle;\n",
              "    }\n",
              "\n",
              "    .dataframe tbody tr th {\n",
              "        vertical-align: top;\n",
              "    }\n",
              "\n",
              "    .dataframe thead th {\n",
              "        text-align: right;\n",
              "    }\n",
              "</style>\n",
              "<table border=\"1\" class=\"dataframe\">\n",
              "  <thead>\n",
              "    <tr style=\"text-align: right;\">\n",
              "      <th></th>\n",
              "      <th>Cases(person)</th>\n",
              "    </tr>\n",
              "    <tr>\n",
              "      <th>Date</th>\n",
              "      <th></th>\n",
              "    </tr>\n",
              "  </thead>\n",
              "  <tbody>\n",
              "    <tr>\n",
              "      <th>2020-03-02</th>\n",
              "      <td>1</td>\n",
              "    </tr>\n",
              "    <tr>\n",
              "      <th>2020-03-04</th>\n",
              "      <td>1</td>\n",
              "    </tr>\n",
              "    <tr>\n",
              "      <th>2020-03-05</th>\n",
              "      <td>3</td>\n",
              "    </tr>\n",
              "    <tr>\n",
              "      <th>2020-03-07</th>\n",
              "      <td>2</td>\n",
              "    </tr>\n",
              "    <tr>\n",
              "      <th>2020-03-08</th>\n",
              "      <td>4</td>\n",
              "    </tr>\n",
              "    <tr>\n",
              "      <th>...</th>\n",
              "      <td>...</td>\n",
              "    </tr>\n",
              "    <tr>\n",
              "      <th>2021-08-19</th>\n",
              "      <td>458</td>\n",
              "    </tr>\n",
              "    <tr>\n",
              "      <th>2021-08-20</th>\n",
              "      <td>409</td>\n",
              "    </tr>\n",
              "    <tr>\n",
              "      <th>2021-08-21</th>\n",
              "      <td>384</td>\n",
              "    </tr>\n",
              "    <tr>\n",
              "      <th>2021-08-22</th>\n",
              "      <td>360</td>\n",
              "    </tr>\n",
              "    <tr>\n",
              "      <th>2021-08-23</th>\n",
              "      <td>353</td>\n",
              "    </tr>\n",
              "  </tbody>\n",
              "</table>\n",
              "<p>538 rows × 1 columns</p>\n",
              "</div>"
            ],
            "text/plain": [
              "            Cases(person)\n",
              "Date                     \n",
              "2020-03-02              1\n",
              "2020-03-04              1\n",
              "2020-03-05              3\n",
              "2020-03-07              2\n",
              "2020-03-08              4\n",
              "...                   ...\n",
              "2021-08-19            458\n",
              "2021-08-20            409\n",
              "2021-08-21            384\n",
              "2021-08-22            360\n",
              "2021-08-23            353\n",
              "\n",
              "[538 rows x 1 columns]"
            ]
          },
          "metadata": {},
          "execution_count": 91
        }
      ]
    },
    {
      "cell_type": "code",
      "metadata": {
        "colab": {
          "base_uri": "https://localhost:8080/"
        },
        "id": "eg5kdYgWTfjD",
        "outputId": "95c5ca45-74aa-4060-efb7-78f3e2f4f9fd"
      },
      "source": [
        "cov_prl.shape"
      ],
      "execution_count": null,
      "outputs": [
        {
          "output_type": "execute_result",
          "data": {
            "text/plain": [
              "(531, 1)"
            ]
          },
          "metadata": {},
          "execution_count": 117
        }
      ]
    },
    {
      "cell_type": "code",
      "metadata": {
        "colab": {
          "base_uri": "https://localhost:8080/"
        },
        "id": "_LmeF61STfl5",
        "outputId": "0ac7e399-795b-4b2f-d563-6f2c398fe660"
      },
      "source": [
        "len(cov_prl)"
      ],
      "execution_count": null,
      "outputs": [
        {
          "output_type": "execute_result",
          "data": {
            "text/plain": [
              "531"
            ]
          },
          "metadata": {},
          "execution_count": 118
        }
      ]
    },
    {
      "cell_type": "code",
      "metadata": {
        "colab": {
          "base_uri": "https://localhost:8080/",
          "height": 356
        },
        "id": "et6Rm_YATfos",
        "outputId": "a71062e9-ead0-4af1-f92d-fef9f5df65b0"
      },
      "source": [
        "cov_prl.groupby(['Date'])['Cases(person)'].sum().plot(kind='line',x='Date',y='Cases(person)',rot='vertical',figsize=(5,5))"
      ],
      "execution_count": null,
      "outputs": [
        {
          "output_type": "execute_result",
          "data": {
            "text/plain": [
              "<matplotlib.axes._subplots.AxesSubplot at 0x7f26085bf690>"
            ]
          },
          "metadata": {},
          "execution_count": 92
        },
        {
          "output_type": "display_data",
          "data": {
            "image/png": "[encoded data removed]",
            "text/plain": [
              "<Figure size 360x360 with 1 Axes>"
            ]
          },
          "metadata": {
            "needs_background": "light"
          }
        }
      ]
    },
    {
      "cell_type": "code",
      "metadata": {
        "colab": {
          "base_uri": "https://localhost:8080/"
        },
        "id": "FJVBxJzOToPt",
        "outputId": "43cadc95-7bf7-4aea-c618-be4a908e328d"
      },
      "source": [
        "#H0: Not stationary\n",
        "#H1:  stationary\n",
        "from statsmodels.tsa.stattools import adfuller\n",
        "result=adfuller(cov_prl['Cases(person)'])\n",
        "#to help you, we added the names of every value\n",
        "dict(zip(['adf', 'pvalue', 'usedlag', 'nobs', 'critical' 'values', 'icbest'],result))\n",
        "\n",
        "#P value >0.05 accept null hypothesis (non stationary )"
      ],
      "execution_count": null,
      "outputs": [
        {
          "output_type": "stream",
          "text": [
            "/usr/local/lib/python3.7/dist-packages/statsmodels/tools/_testing.py:19: FutureWarning: pandas.util.testing is deprecated. Use the functions in the public API at pandas.testing instead.\n",
            "  import pandas.util.testing as tm\n"
          ],
          "name": "stderr"
        },
        {
          "output_type": "execute_result",
          "data": {
            "text/plain": [
              "{'adf': -1.829660927847281,\n",
              " 'criticalvalues': {'1%': -3.443037261465839,\n",
              "  '10%': -2.569750352856994,\n",
              "  '5%': -2.8671357972350493},\n",
              " 'icbest': 6579.904489711518,\n",
              " 'nobs': 518,\n",
              " 'pvalue': 0.36583843980580266,\n",
              " 'usedlag': 19}"
            ]
          },
          "metadata": {},
          "execution_count": 93
        }
      ]
    },
    {
      "cell_type": "code",
      "metadata": {
        "colab": {
          "base_uri": "https://localhost:8080/",
          "height": 356
        },
        "id": "k4Y7Kly9ToS3",
        "outputId": "43bb4735-0208-42aa-f624-0df39af54ccb"
      },
      "source": [
        "#diffrence\n",
        "cov_prl['1difference']=cov_prl['Cases(person)']-cov_prl['Cases(person)'].shift(1)\n",
        "cov_prl.groupby(['Date'])['1difference'].sum().plot(kind='line',x='Date',y='1difference',rot='vertical',figsize=(5,5))"
      ],
      "execution_count": null,
      "outputs": [
        {
          "output_type": "execute_result",
          "data": {
            "text/plain": [
              "<matplotlib.axes._subplots.AxesSubplot at 0x7f260835a810>"
            ]
          },
          "metadata": {},
          "execution_count": 94
        },
        {
          "output_type": "display_data",
          "data": {
            "image/png": "[encoded data removed]",
            "text/plain": [
              "<Figure size 360x360 with 1 Axes>"
            ]
          },
          "metadata": {
            "needs_background": "light"
          }
        }
      ]
    },
    {
      "cell_type": "code",
      "metadata": {
        "colab": {
          "base_uri": "https://localhost:8080/"
        },
        "id": "fUdlBZs1ToVk",
        "outputId": "d8e8c7ab-d9d7-41e1-9957-09f0c07e097a"
      },
      "source": [
        "result=adfuller(cov_prl['1difference'].dropna())\n",
        "dict(zip(['adf', 'pvalue', 'usedlag', 'nobs', 'critical' 'values', 'icbest'],result))"
      ],
      "execution_count": null,
      "outputs": [
        {
          "output_type": "execute_result",
          "data": {
            "text/plain": [
              "{'adf': -4.847322104959461,\n",
              " 'criticalvalues': {'1%': -3.443037261465839,\n",
              "  '10%': -2.569750352856994,\n",
              "  '5%': -2.8671357972350493},\n",
              " 'icbest': 6568.63281529008,\n",
              " 'nobs': 518,\n",
              " 'pvalue': 4.4114587930453845e-05,\n",
              " 'usedlag': 18}"
            ]
          },
          "metadata": {},
          "execution_count": 95
        }
      ]
    },
    {
      "cell_type": "code",
      "metadata": {
        "colab": {
          "base_uri": "https://localhost:8080/",
          "height": 545
        },
        "id": "KQcBaawhT3qp",
        "outputId": "a69b8b7d-4ef6-4029-9e16-eea96db3aa82"
      },
      "source": [
        "from statsmodels.graphics.tsaplots import plot_acf, plot_pacf\n",
        "fig1=plot_acf(cov_prl['1difference'].dropna())\n",
        "fig2=plot_pacf(cov_prl['1difference'].dropna())"
      ],
      "execution_count": null,
      "outputs": [
        {
          "output_type": "display_data",
          "data": {
            "image/png": "[encoded data removed]",
            "text/plain": [
              "<Figure size 432x288 with 1 Axes>"
            ]
          },
          "metadata": {
            "needs_background": "light"
          }
        },
        {
          "output_type": "display_data",
          "data": {
            "image/png": "[encoded data removed]",
            "text/plain": [
              "<Figure size 432x288 with 1 Axes>"
            ]
          },
          "metadata": {
            "needs_background": "light"
          }
        }
      ]
    },
    {
      "cell_type": "code",
      "metadata": {
        "colab": {
          "base_uri": "https://localhost:8080/",
          "height": 357
        },
        "id": "cEEDPmrYToYk",
        "outputId": "fcb916e4-b3a8-4644-fe95-fcf293b75d3a"
      },
      "source": [
        "#seasonal diffrences\n",
        "cov_prl['Seasonal_Difference']=cov_prl['Cases(person)']-cov_prl['Cases(person)'].shift(12)\n",
        "cov_prl.groupby(['Date'])['Seasonal_Difference'].sum().plot(kind='line',x='Date',y='Seasonal_Difference',rot='vertical',figsize=(5,5))"
      ],
      "execution_count": null,
      "outputs": [
        {
          "output_type": "execute_result",
          "data": {
            "text/plain": [
              "<matplotlib.axes._subplots.AxesSubplot at 0x7f25fe63bbd0>"
            ]
          },
          "metadata": {},
          "execution_count": 97
        },
        {
          "output_type": "display_data",
          "data": {
            "image/png": "[encoded data removed]",
            "text/plain": [
              "<Figure size 360x360 with 1 Axes>"
            ]
          },
          "metadata": {
            "needs_background": "light"
          }
        }
      ]
    },
    {
      "cell_type": "code",
      "metadata": {
        "colab": {
          "base_uri": "https://localhost:8080/"
        },
        "id": "lEd8AB6BTobM",
        "outputId": "b9475801-2b37-4b1d-f939-138c38c80f81"
      },
      "source": [
        "result=adfuller(cov_prl['Seasonal_Difference'].dropna())\n",
        "dict(zip(['adf', 'pvalue', 'usedlag', 'nobs', 'critical' 'values', 'icbest'],result))"
      ],
      "execution_count": null,
      "outputs": [
        {
          "output_type": "execute_result",
          "data": {
            "text/plain": [
              "{'adf': -2.9885163191468083,\n",
              " 'criticalvalues': {'1%': -3.443339692005083,\n",
              "  '10%': -2.569821287318971,\n",
              "  '5%': -2.8672689011327894},\n",
              " 'icbest': 6586.945691357255,\n",
              " 'nobs': 506,\n",
              " 'pvalue': 0.035980837886225525,\n",
              " 'usedlag': 19}"
            ]
          },
          "metadata": {},
          "execution_count": 98
        }
      ]
    },
    {
      "cell_type": "code",
      "metadata": {
        "colab": {
          "base_uri": "https://localhost:8080/",
          "height": 545
        },
        "id": "XZJUAKFST00s",
        "outputId": "efac8725-0c20-456a-8d63-770dddffecd1"
      },
      "source": [
        "fig1=plot_acf(cov_prl['Seasonal_Difference'].dropna()) #q value          q=0, p=2 d=1\n",
        "fig2=plot_pacf(cov_prl['Seasonal_Difference'].dropna()) # p value"
      ],
      "execution_count": null,
      "outputs": [
        {
          "output_type": "display_data",
          "data": {
            "image/png": "[encoded data removed]",
            "text/plain": [
              "<Figure size 432x288 with 1 Axes>"
            ]
          },
          "metadata": {
            "needs_background": "light"
          }
        },
        {
          "output_type": "display_data",
          "data": {
            "image/png": "[encoded data removed]",
            "text/plain": [
              "<Figure size 432x288 with 1 Axes>"
            ]
          },
          "metadata": {
            "needs_background": "light"
          }
        }
      ]
    },
    {
      "cell_type": "markdown",
      "metadata": {
        "id": "UvFKF5vkT89P"
      },
      "source": [
        "ARIMA"
      ]
    },
    {
      "cell_type": "code",
      "metadata": {
        "colab": {
          "base_uri": "https://localhost:8080/"
        },
        "id": "9VT-8U9zT05u",
        "outputId": "2b506626-2f63-4378-a326-20bce27d9089"
      },
      "source": [
        "from statsmodels.tsa.arima_model import ARIMA\n",
        "\n",
        "model=ARIMA(cov_prl['Cases(person)'],order=(2,0,1))\n",
        "result=model.fit()"
      ],
      "execution_count": null,
      "outputs": [
        {
          "output_type": "stream",
          "text": [
            "/usr/local/lib/python3.7/dist-packages/statsmodels/tsa/base/tsa_model.py:219: ValueWarning: A date index has been provided, but it has no associated frequency information and so will be ignored when e.g. forecasting.\n",
            "  ' ignored when e.g. forecasting.', ValueWarning)\n"
          ],
          "name": "stderr"
        }
      ]
    },
    {
      "cell_type": "code",
      "metadata": {
        "colab": {
          "base_uri": "https://localhost:8080/",
          "height": 382
        },
        "id": "cc52sJweT09M",
        "outputId": "6843d693-174e-4b76-a35d-7babfb707c13"
      },
      "source": [
        "result.summary()"
      ],
      "execution_count": null,
      "outputs": [
        {
          "output_type": "execute_result",
          "data": {
            "text/html": [
              "<table class=\"simpletable\">\n",
              "<caption>ARMA Model Results</caption>\n",
              "<tr>\n",
              "  <th>Dep. Variable:</th>   <td>Cases(person)</td>  <th>  No. Observations:  </th>    <td>538</td>   \n",
              "</tr>\n",
              "<tr>\n",
              "  <th>Model:</th>            <td>ARMA(2, 1)</td>    <th>  Log Likelihood     </th> <td>-3424.705</td>\n",
              "</tr>\n",
              "<tr>\n",
              "  <th>Method:</th>             <td>css-mle</td>     <th>  S.D. of innovations</th>  <td>140.210</td> \n",
              "</tr>\n",
              "<tr>\n",
              "  <th>Date:</th>          <td>Thu, 26 Aug 2021</td> <th>  AIC                </th> <td>6859.409</td> \n",
              "</tr>\n",
              "<tr>\n",
              "  <th>Time:</th>              <td>07:00:36</td>     <th>  BIC                </th> <td>6880.848</td> \n",
              "</tr>\n",
              "<tr>\n",
              "  <th>Sample:</th>                <td>0</td>        <th>  HQIC               </th> <td>6867.795</td> \n",
              "</tr>\n",
              "<tr>\n",
              "  <th></th>                       <td> </td>        <th>                     </th>     <td> </td>    \n",
              "</tr>\n",
              "</table>\n",
              "<table class=\"simpletable\">\n",
              "<tr>\n",
              "           <td></td>              <th>coef</th>     <th>std err</th>      <th>z</th>      <th>P>|z|</th>  <th>[0.025</th>    <th>0.975]</th>  \n",
              "</tr>\n",
              "<tr>\n",
              "  <th>const</th>               <td>  773.7460</td> <td>  513.580</td> <td>    1.507</td> <td> 0.133</td> <td> -232.852</td> <td> 1780.344</td>\n",
              "</tr>\n",
              "<tr>\n",
              "  <th>ar.L1.Cases(person)</th> <td>    1.0839</td> <td>    0.222</td> <td>    4.877</td> <td> 0.000</td> <td>    0.648</td> <td>    1.519</td>\n",
              "</tr>\n",
              "<tr>\n",
              "  <th>ar.L2.Cases(person)</th> <td>   -0.0921</td> <td>    0.220</td> <td>   -0.419</td> <td> 0.676</td> <td>   -0.523</td> <td>    0.339</td>\n",
              "</tr>\n",
              "<tr>\n",
              "  <th>ma.L1.Cases(person)</th> <td>   -0.1850</td> <td>    0.216</td> <td>   -0.856</td> <td> 0.392</td> <td>   -0.609</td> <td>    0.239</td>\n",
              "</tr>\n",
              "</table>\n",
              "<table class=\"simpletable\">\n",
              "<caption>Roots</caption>\n",
              "<tr>\n",
              "    <td></td>   <th>            Real</th>  <th>         Imaginary</th> <th>         Modulus</th>  <th>        Frequency</th>\n",
              "</tr>\n",
              "<tr>\n",
              "  <th>AR.1</th> <td>           1.0092</td> <td>          +0.0000j</td> <td>           1.0092</td> <td>           0.0000</td>\n",
              "</tr>\n",
              "<tr>\n",
              "  <th>AR.2</th> <td>          10.7601</td> <td>          +0.0000j</td> <td>          10.7601</td> <td>           0.0000</td>\n",
              "</tr>\n",
              "<tr>\n",
              "  <th>MA.1</th> <td>           5.4041</td> <td>          +0.0000j</td> <td>           5.4041</td> <td>           0.0000</td>\n",
              "</tr>\n",
              "</table>"
            ],
            "text/plain": [
              "<class 'statsmodels.iolib.summary.Summary'>\n",
              "\"\"\"\n",
              "                              ARMA Model Results                              \n",
              "==============================================================================\n",
              "Dep. Variable:          Cases(person)   No. Observations:                  538\n",
              "Model:                     ARMA(2, 1)   Log Likelihood               -3424.705\n",
              "Method:                       css-mle   S.D. of innovations            140.210\n",
              "Date:                Thu, 26 Aug 2021   AIC                           6859.409\n",
              "Time:                        07:00:36   BIC                           6880.848\n",
              "Sample:                             0   HQIC                          6867.795\n",
              "                                                                              \n",
              "=======================================================================================\n",
              "                          coef    std err          z      P>|z|      [0.025      0.975]\n",
              "---------------------------------------------------------------------------------------\n",
              "const                 773.7460    513.580      1.507      0.133    -232.852    1780.344\n",
              "ar.L1.Cases(person)     1.0839      0.222      4.877      0.000       0.648       1.519\n",
              "ar.L2.Cases(person)    -0.0921      0.220     -0.419      0.676      -0.523       0.339\n",
              "ma.L1.Cases(person)    -0.1850      0.216     -0.856      0.392      -0.609       0.239\n",
              "                                    Roots                                    \n",
              "=============================================================================\n",
              "                  Real          Imaginary           Modulus         Frequency\n",
              "-----------------------------------------------------------------------------\n",
              "AR.1            1.0092           +0.0000j            1.0092            0.0000\n",
              "AR.2           10.7601           +0.0000j           10.7601            0.0000\n",
              "MA.1            5.4041           +0.0000j            5.4041            0.0000\n",
              "-----------------------------------------------------------------------------\n",
              "\"\"\""
            ]
          },
          "metadata": {},
          "execution_count": 101
        }
      ]
    },
    {
      "cell_type": "code",
      "metadata": {
        "colab": {
          "base_uri": "https://localhost:8080/",
          "height": 277
        },
        "id": "XB73EjoRLykl",
        "outputId": "c1b60488-d448-489f-b778-6cb9af2ea2b4"
      },
      "source": [
        "from matplotlib import pyplot as plt\n",
        "result.plot_predict(dynamic=False)\n",
        "plt.show()"
      ],
      "execution_count": null,
      "outputs": [
        {
          "output_type": "display_data",
          "data": {
            "image/png": "[encoded data removed]",
            "text/plain": [
              "<Figure size 432x288 with 1 Axes>"
            ]
          },
          "metadata": {
            "needs_background": "light"
          }
        }
      ]
    },
    {
      "cell_type": "code",
      "metadata": {
        "colab": {
          "base_uri": "https://localhost:8080/",
          "height": 689
        },
        "id": "aYiYzggmTod9",
        "outputId": "f5260541-2d63-451e-e1d0-16d7b453b676"
      },
      "source": [
        "from pandas import DataFrame\n",
        "from matplotlib import pyplot\n",
        "\n",
        "residuals = DataFrame(result.resid)\n",
        "residuals.plot()\n",
        "pyplot.show()\n",
        "# density plot of residuals\n",
        "residuals.plot(kind='kde')\n",
        "pyplot.show()\n",
        "# summary stats of residuals\n",
        "print(residuals.describe())"
      ],
      "execution_count": null,
      "outputs": [
        {
          "output_type": "display_data",
          "data": {
            "image/png": "[encoded data removed]",
            "text/plain": [
              "<Figure size 432x288 with 1 Axes>"
            ]
          },
          "metadata": {
            "needs_background": "light"
          }
        },
        {
          "output_type": "display_data",
          "data": {
            "image/png": "[encoded data removed]",
            "text/plain": [
              "<Figure size 432x288 with 1 Axes>"
            ]
          },
          "metadata": {
            "needs_background": "light"
          }
        },
        {
          "output_type": "stream",
          "text": [
            "                0\n",
            "count  538.000000\n",
            "mean     1.673208\n",
            "std    144.152107\n",
            "min   -908.585058\n",
            "25%    -41.509309\n",
            "50%     -5.802906\n",
            "75%     31.294964\n",
            "max    846.096446\n"
          ],
          "name": "stdout"
        }
      ]
    },
    {
      "cell_type": "code",
      "metadata": {
        "colab": {
          "base_uri": "https://localhost:8080/"
        },
        "id": "u9erYB_vUCwA",
        "outputId": "600260f3-e21b-46e1-d22e-a9151d8b0db0"
      },
      "source": [
        "len(cov_prl)"
      ],
      "execution_count": null,
      "outputs": [
        {
          "output_type": "execute_result",
          "data": {
            "text/plain": [
              "538"
            ]
          },
          "metadata": {},
          "execution_count": 105
        }
      ]
    },
    {
      "cell_type": "code",
      "metadata": {
        "colab": {
          "base_uri": "https://localhost:8080/"
        },
        "id": "tjMSYNjyUCzP",
        "outputId": "0e71980b-4255-4875-dda5-20c79e0fb863"
      },
      "source": [
        "result.predict(start=400 ,end=538 , dynamic=True)"
      ],
      "execution_count": null,
      "outputs": [
        {
          "output_type": "stream",
          "text": [
            "/usr/local/lib/python3.7/dist-packages/statsmodels/tsa/base/tsa_model.py:576: ValueWarning: No supported index is available. Prediction results will be given with an integer index beginning at `start`.\n",
            "  ValueWarning)\n"
          ],
          "name": "stderr"
        },
        {
          "output_type": "execute_result",
          "data": {
            "text/plain": [
              "400    889.703545\n",
              "401    887.616608\n",
              "402    886.487067\n",
              "403    885.454992\n",
              "404    884.440389\n",
              "          ...    \n",
              "534    807.585241\n",
              "535    807.278146\n",
              "536    806.973838\n",
              "537    806.672291\n",
              "538    806.373481\n",
              "Length: 139, dtype: float64"
            ]
          },
          "metadata": {},
          "execution_count": 106
        }
      ]
    },
    {
      "cell_type": "code",
      "metadata": {
        "id": "VCtNH7G7Mf65"
      },
      "source": [
        "# from statsmodels.tsa.stattools import acf\n",
        "\n",
        "# # Create Training and Test\n",
        "# train = cov_prl[:400]#.value\n",
        "# test = cov_prl[400:]\n",
        "# #train"
      ],
      "execution_count": null,
      "outputs": []
    },
    {
      "cell_type": "code",
      "metadata": {
        "id": "Ix8u8Ex9NB_i"
      },
      "source": [
        "# test"
      ],
      "execution_count": null,
      "outputs": []
    },
    {
      "cell_type": "code",
      "metadata": {
        "id": "ERKPGdoKMXk1"
      },
      "source": [
        "# fc, se, conf = result.forecast(50, alpha=0.05)  # 95% conf\n",
        "\n",
        "# # Make as pandas series\n",
        "# fc_series = pd.Series(fc, index=test.index)\n",
        "# lower_series = pd.Series(conf[:, 0], index=test.index)\n",
        "# upper_series = pd.Series(conf[:, 1], index=test.index)\n",
        "\n",
        "# # Plot\n",
        "# plt.figure(figsize=(12,5), dpi=100)\n",
        "# plt.plot(train, label='training')\n",
        "# plt.plot(test, label='actual')\n",
        "# plt.plot(fc_series, label='forecast')\n",
        "# plt.fill_between(lower_series.index, lower_series, upper_series, \n",
        "#                  color='k', alpha=.15)\n",
        "# plt.title('Forecast vs Actuals')\n",
        "# plt.legend(loc='upper left', fontsize=8)\n",
        "# plt.show()"
      ],
      "execution_count": null,
      "outputs": []
    },
    {
      "cell_type": "code",
      "metadata": {
        "id": "uZ4hCQtgUC2A"
      },
      "source": [
        "cov_prl[400:538]"
      ],
      "execution_count": 7,
      "outputs": []
    },
    {
      "cell_type": "code",
      "metadata": {
        "id": "_SBUZ9nUrzKe"
      },
      "source": [
        ""
      ],
      "execution_count": null,
      "outputs": []
    },
    {
      "cell_type": "markdown",
      "metadata": {
        "id": "Z0vDpEkeUKVI"
      },
      "source": [
        "SARIMA"
      ]
    },
    {
      "cell_type": "code",
      "metadata": {
        "colab": {
          "base_uri": "https://localhost:8080/"
        },
        "id": "z6_sr2-TUC4w",
        "outputId": "335cb9e8-3543-40f0-dc7b-5cfe54ac1d8a"
      },
      "source": [
        "from statsmodels.tsa.statespace.sarimax import SARIMAX\n",
        "model1=SARIMAX(cov_prl['Cases(person)'],order=(2,0,1))\n",
        "result1=model1.fit()"
      ],
      "execution_count": null,
      "outputs": [
        {
          "output_type": "stream",
          "text": [
            "/usr/local/lib/python3.7/dist-packages/statsmodels/tsa/base/tsa_model.py:219: ValueWarning: A date index has been provided, but it has no associated frequency information and so will be ignored when e.g. forecasting.\n",
            "  ' ignored when e.g. forecasting.', ValueWarning)\n",
            "/usr/local/lib/python3.7/dist-packages/statsmodels/tsa/statespace/sarimax.py:949: UserWarning: Non-stationary starting autoregressive parameters found. Using zeros as starting parameters.\n",
            "  warn('Non-stationary starting autoregressive parameters'\n",
            "/usr/local/lib/python3.7/dist-packages/statsmodels/tsa/statespace/sarimax.py:961: UserWarning: Non-invertible starting MA parameters found. Using zeros as starting parameters.\n",
            "  warn('Non-invertible starting MA parameters found.'\n"
          ],
          "name": "stderr"
        }
      ]
    },
    {
      "cell_type": "code",
      "metadata": {
        "colab": {
          "base_uri": "https://localhost:8080/",
          "height": 452
        },
        "id": "wWidbXWeUC71",
        "outputId": "197b6797-6de5-44ab-a1ad-ee1656dc808c"
      },
      "source": [
        "result1.summary()"
      ],
      "execution_count": null,
      "outputs": [
        {
          "output_type": "execute_result",
          "data": {
            "text/html": [
              "<table class=\"simpletable\">\n",
              "<caption>Statespace Model Results</caption>\n",
              "<tr>\n",
              "  <th>Dep. Variable:</th>     <td>Cases(person)</td>  <th>  No. Observations:  </th>    <td>538</td>   \n",
              "</tr>\n",
              "<tr>\n",
              "  <th>Model:</th>           <td>SARIMAX(2, 0, 1)</td> <th>  Log Likelihood     </th> <td>-3427.532</td>\n",
              "</tr>\n",
              "<tr>\n",
              "  <th>Date:</th>            <td>Thu, 26 Aug 2021</td> <th>  AIC                </th> <td>6863.064</td> \n",
              "</tr>\n",
              "<tr>\n",
              "  <th>Time:</th>                <td>07:02:05</td>     <th>  BIC                </th> <td>6880.216</td> \n",
              "</tr>\n",
              "<tr>\n",
              "  <th>Sample:</th>                  <td>0</td>        <th>  HQIC               </th> <td>6869.773</td> \n",
              "</tr>\n",
              "<tr>\n",
              "  <th></th>                      <td> - 538</td>      <th>                     </th>     <td> </td>    \n",
              "</tr>\n",
              "<tr>\n",
              "  <th>Covariance Type:</th>        <td>opg</td>       <th>                     </th>     <td> </td>    \n",
              "</tr>\n",
              "</table>\n",
              "<table class=\"simpletable\">\n",
              "<tr>\n",
              "     <td></td>       <th>coef</th>     <th>std err</th>      <th>z</th>      <th>P>|z|</th>  <th>[0.025</th>    <th>0.975]</th>  \n",
              "</tr>\n",
              "<tr>\n",
              "  <th>ar.L1</th>  <td>    0.0311</td> <td>    0.111</td> <td>    0.281</td> <td> 0.779</td> <td>   -0.186</td> <td>    0.248</td>\n",
              "</tr>\n",
              "<tr>\n",
              "  <th>ar.L2</th>  <td>    0.9562</td> <td>    0.110</td> <td>    8.704</td> <td> 0.000</td> <td>    0.741</td> <td>    1.172</td>\n",
              "</tr>\n",
              "<tr>\n",
              "  <th>ma.L1</th>  <td>    0.9551</td> <td>    0.115</td> <td>    8.284</td> <td> 0.000</td> <td>    0.729</td> <td>    1.181</td>\n",
              "</tr>\n",
              "<tr>\n",
              "  <th>sigma2</th> <td> 1.985e+04</td> <td>  445.217</td> <td>   44.576</td> <td> 0.000</td> <td>  1.9e+04</td> <td> 2.07e+04</td>\n",
              "</tr>\n",
              "</table>\n",
              "<table class=\"simpletable\">\n",
              "<tr>\n",
              "  <th>Ljung-Box (Q):</th>          <td>143.75</td> <th>  Jarque-Bera (JB):  </th> <td>4586.00</td>\n",
              "</tr>\n",
              "<tr>\n",
              "  <th>Prob(Q):</th>                 <td>0.00</td>  <th>  Prob(JB):          </th>  <td>0.00</td>  \n",
              "</tr>\n",
              "<tr>\n",
              "  <th>Heteroskedasticity (H):</th>  <td>0.15</td>  <th>  Skew:              </th>  <td>0.67</td>  \n",
              "</tr>\n",
              "<tr>\n",
              "  <th>Prob(H) (two-sided):</th>     <td>0.00</td>  <th>  Kurtosis:          </th>  <td>17.24</td> \n",
              "</tr>\n",
              "</table><br/><br/>Warnings:<br/>[1] Covariance matrix calculated using the outer product of gradients (complex-step)."
            ],
            "text/plain": [
              "<class 'statsmodels.iolib.summary.Summary'>\n",
              "\"\"\"\n",
              "                           Statespace Model Results                           \n",
              "==============================================================================\n",
              "Dep. Variable:          Cases(person)   No. Observations:                  538\n",
              "Model:               SARIMAX(2, 0, 1)   Log Likelihood               -3427.532\n",
              "Date:                Thu, 26 Aug 2021   AIC                           6863.064\n",
              "Time:                        07:02:05   BIC                           6880.216\n",
              "Sample:                             0   HQIC                          6869.773\n",
              "                                - 538                                         \n",
              "Covariance Type:                  opg                                         \n",
              "==============================================================================\n",
              "                 coef    std err          z      P>|z|      [0.025      0.975]\n",
              "------------------------------------------------------------------------------\n",
              "ar.L1          0.0311      0.111      0.281      0.779      -0.186       0.248\n",
              "ar.L2          0.9562      0.110      8.704      0.000       0.741       1.172\n",
              "ma.L1          0.9551      0.115      8.284      0.000       0.729       1.181\n",
              "sigma2      1.985e+04    445.217     44.576      0.000     1.9e+04    2.07e+04\n",
              "===================================================================================\n",
              "Ljung-Box (Q):                      143.75   Jarque-Bera (JB):              4586.00\n",
              "Prob(Q):                              0.00   Prob(JB):                         0.00\n",
              "Heteroskedasticity (H):               0.15   Skew:                             0.67\n",
              "Prob(H) (two-sided):                  0.00   Kurtosis:                        17.24\n",
              "===================================================================================\n",
              "\n",
              "Warnings:\n",
              "[1] Covariance matrix calculated using the outer product of gradients (complex-step).\n",
              "\"\"\""
            ]
          },
          "metadata": {},
          "execution_count": 109
        }
      ]
    },
    {
      "cell_type": "code",
      "metadata": {
        "id": "UWweqIyPMBYt"
      },
      "source": [
        ""
      ],
      "execution_count": null,
      "outputs": []
    },
    {
      "cell_type": "code",
      "metadata": {
        "colab": {
          "base_uri": "https://localhost:8080/",
          "height": 689
        },
        "id": "Z283SgUrUNMB",
        "outputId": "600aef3e-ee45-4f47-96e5-f4e33aa41c3d"
      },
      "source": [
        "from pandas import DataFrame\n",
        "from matplotlib import pyplot\n",
        "\n",
        "residuals = DataFrame(result1.resid)\n",
        "residuals.plot()\n",
        "pyplot.show()\n",
        "# density plot of residuals\n",
        "residuals.plot(kind='kde')\n",
        "pyplot.show()\n",
        "# summary stats of residuals\n",
        "print(residuals.describe())"
      ],
      "execution_count": null,
      "outputs": [
        {
          "output_type": "display_data",
          "data": {
            "image/png": "[encoded data removed]",
            "text/plain": [
              "<Figure size 432x288 with 1 Axes>"
            ]
          },
          "metadata": {
            "needs_background": "light"
          }
        },
        {
          "output_type": "display_data",
          "data": {
            "image/png": "[encoded data removed]",
            "text/plain": [
              "<Figure size 432x288 with 1 Axes>"
            ]
          },
          "metadata": {
            "needs_background": "light"
          }
        },
        {
          "output_type": "stream",
          "text": [
            "                0\n",
            "count  538.000000\n",
            "mean     7.209119\n",
            "std    140.824621\n",
            "min   -945.060606\n",
            "25%    -37.364958\n",
            "50%      0.070308\n",
            "75%     34.852491\n",
            "max    881.977849\n"
          ],
          "name": "stdout"
        }
      ]
    },
    {
      "cell_type": "code",
      "metadata": {
        "colab": {
          "base_uri": "https://localhost:8080/"
        },
        "id": "y9Do9k4PUNSL",
        "outputId": "542d0c76-5f53-4b68-e1ff-ac1d86d3fe59"
      },
      "source": [
        "np.round(result1.predict(start=400 ,end=538 , dynamic=True),0)"
      ],
      "execution_count": null,
      "outputs": [
        {
          "output_type": "stream",
          "text": [
            "/usr/local/lib/python3.7/dist-packages/statsmodels/tsa/base/tsa_model.py:576: ValueWarning: No supported index is available. Prediction results will be given with an integer index beginning at `start`.\n",
            "  ValueWarning)\n"
          ],
          "name": "stderr"
        },
        {
          "output_type": "execute_result",
          "data": {
            "text/plain": [
              "400    894.0\n",
              "401    890.0\n",
              "402    883.0\n",
              "403    879.0\n",
              "404    871.0\n",
              "       ...  \n",
              "534    375.0\n",
              "535    372.0\n",
              "536    370.0\n",
              "537    368.0\n",
              "538    365.0\n",
              "Length: 139, dtype: float64"
            ]
          },
          "metadata": {},
          "execution_count": 115
        }
      ]
    },
    {
      "cell_type": "code",
      "metadata": {
        "colab": {
          "base_uri": "https://localhost:8080/",
          "height": 269
        },
        "id": "SkTDgWPlHL76",
        "outputId": "de698d02-1340-470d-f8c4-ccb99b25fbd1"
      },
      "source": [
        "# fff=ff.to_frame()\n",
        "# fff[131:138]"
      ],
      "execution_count": null,
      "outputs": [
        {
          "output_type": "execute_result",
          "data": {
            "text/html": [
              "<div>\n",
              "<style scoped>\n",
              "    .dataframe tbody tr th:only-of-type {\n",
              "        vertical-align: middle;\n",
              "    }\n",
              "\n",
              "    .dataframe tbody tr th {\n",
              "        vertical-align: top;\n",
              "    }\n",
              "\n",
              "    .dataframe thead th {\n",
              "        text-align: right;\n",
              "    }\n",
              "</style>\n",
              "<table border=\"1\" class=\"dataframe\">\n",
              "  <thead>\n",
              "    <tr style=\"text-align: right;\">\n",
              "      <th></th>\n",
              "      <th>0</th>\n",
              "    </tr>\n",
              "  </thead>\n",
              "  <tbody>\n",
              "    <tr>\n",
              "      <th>531</th>\n",
              "      <td>385.268774</td>\n",
              "    </tr>\n",
              "    <tr>\n",
              "      <th>532</th>\n",
              "      <td>382.783654</td>\n",
              "    </tr>\n",
              "    <tr>\n",
              "      <th>533</th>\n",
              "      <td>380.341374</td>\n",
              "    </tr>\n",
              "    <tr>\n",
              "      <th>534</th>\n",
              "      <td>377.888872</td>\n",
              "    </tr>\n",
              "    <tr>\n",
              "      <th>535</th>\n",
              "      <td>375.477019</td>\n",
              "    </tr>\n",
              "    <tr>\n",
              "      <th>536</th>\n",
              "      <td>373.056656</td>\n",
              "    </tr>\n",
              "    <tr>\n",
              "      <th>537</th>\n",
              "      <td>370.674901</td>\n",
              "    </tr>\n",
              "  </tbody>\n",
              "</table>\n",
              "</div>"
            ],
            "text/plain": [
              "              0\n",
              "531  385.268774\n",
              "532  382.783654\n",
              "533  380.341374\n",
              "534  377.888872\n",
              "535  375.477019\n",
              "536  373.056656\n",
              "537  370.674901"
            ]
          },
          "metadata": {},
          "execution_count": 133
        }
      ]
    },
    {
      "cell_type": "code",
      "metadata": {
        "id": "niy2xEXgIEj5"
      },
      "source": [
        ""
      ],
      "execution_count": null,
      "outputs": []
    },
    {
      "cell_type": "code",
      "metadata": {
        "id": "k7egdxg7UNVK"
      },
      "source": [
        "cov_prl[400:538]"
      ],
      "execution_count": 8,
      "outputs": []
    },
    {
      "cell_type": "code",
      "metadata": {
        "id": "e46VxRsrUNYr"
      },
      "source": [
        ""
      ],
      "execution_count": null,
      "outputs": []
    },
    {
      "cell_type": "markdown",
      "metadata": {
        "id": "Xb1SxGSGUW-m"
      },
      "source": [
        "Training and Testing ARIMA *model*"
      ]
    },
    {
      "cell_type": "markdown",
      "metadata": {
        "id": "qGAMeLtNaUwh"
      },
      "source": [
        "ARIMA"
      ]
    },
    {
      "cell_type": "code",
      "metadata": {
        "id": "QV-_WH0DN5TV"
      },
      "source": [
        "cov_prl_=cov_prl.drop(['1difference','Seasonal_Difference'],axis=1)"
      ],
      "execution_count": null,
      "outputs": []
    },
    {
      "cell_type": "code",
      "metadata": {
        "id": "FQ1q_aajUXow",
        "colab": {
          "base_uri": "https://localhost:8080/",
          "height": 1000
        },
        "outputId": "51c68578-9254-48ce-b031-2856bdc0c803"
      },
      "source": [
        "from sklearn.metrics import mean_absolute_error ,mean_squared_error\n",
        "from math import sqrt\n",
        "X = cov_prl_.values\n",
        "size = int(len(X) * 0.66)\n",
        "train, test = X[0:size], X[size:len(X)]\n",
        "history = [x for x in train]\n",
        "predictions = list()\n",
        "print(len(train))\n",
        "print(len(test))\n",
        "# walk-forward validation\n",
        "for t in range(len(test)):\n",
        "\tmodel = ARIMA(history, order=(2,0,1))\n",
        "\tmodel_fit = model.fit()\n",
        "\toutput = model_fit.forecast()\n",
        "\tyhat = output[0]\n",
        "\tpredictions.append(yhat)\n",
        "\tobs = test[t]\n",
        "\thistory.append(obs)\n",
        "\tprint('predicted=%f, expected=%f' % (yhat, obs))\n",
        "# evaluate forecasts\n",
        "rmse = sqrt(mean_squared_error(test, predictions))\n",
        "print('Test RMSE: %.3f' % rmse)\n",
        "# plot forecasts against actual outcomes\n",
        "pyplot.plot(test)\n",
        "pyplot.plot(predictions, color='red')\n",
        "pyplot.show()"
      ],
      "execution_count": null,
      "outputs": [
        {
          "output_type": "stream",
          "text": [
            "355\n",
            "183\n",
            "predicted=329.906991, expected=335.000000\n",
            "predicted=337.800425, expected=353.000000\n",
            "predicted=354.752735, expected=356.000000\n",
            "predicted=358.942759, expected=346.000000\n",
            "predicted=350.578220, expected=338.000000\n",
            "predicted=342.507165, expected=322.000000\n",
            "predicted=327.441813, expected=317.000000\n",
            "predicted=321.508701, expected=302.000000\n",
            "predicted=307.404822, expected=331.000000\n",
            "predicted=332.004224, expected=375.000000\n",
            "predicted=373.858567, expected=384.000000\n",
            "predicted=385.862956, expected=382.000000\n",
            "predicted=385.305195, expected=357.000000\n",
            "predicted=362.925594, expected=351.000000\n",
            "predicted=355.334717, expected=390.000000\n",
            "predicted=389.600520, expected=386.000000\n",
            "predicted=389.153069, expected=390.000000\n",
            "predicted=392.797614, expected=360.000000\n",
            "predicted=366.322945, expected=351.000000\n",
            "predicted=355.665894, expected=348.000000\n",
            "predicted=352.077286, expected=345.000000\n",
            "predicted=348.880667, expected=354.000000\n",
            "predicted=356.593777, expected=393.000000\n",
            "predicted=392.159613, expected=381.000000\n",
            "predicted=384.849131, expected=391.000000\n",
            "predicted=393.160679, expected=382.000000\n",
            "predicted=385.980525, expected=367.000000\n",
            "predicted=371.804922, expected=404.000000\n",
            "predicted=403.618632, expected=410.000000\n",
            "predicted=412.028491, expected=466.000000\n",
            "predicted=462.841065, expected=482.000000\n",
            "predicted=482.122947, expected=510.000000\n",
            "predicted=509.150750, expected=502.000000\n",
            "predicted=504.729531, expected=531.000000\n",
            "predicted=530.231838, expected=541.000000\n",
            "predicted=541.619810, expected=556.000000\n",
            "predicted=556.070332, expected=585.000000\n",
            "predicted=583.526670, expected=590.000000\n",
            "predicted=590.732562, expected=728.000000\n",
            "predicted=714.780311, expected=684.000000\n",
            "predicted=687.516392, expected=673.000000\n",
            "predicted=675.315136, expected=695.000000\n",
            "predicted=693.631827, expected=792.000000\n",
            "predicted=782.151440, expected=783.000000\n",
            "predicted=782.724782, expected=902.000000\n",
            "predicted=889.368293, expected=904.000000\n",
            "predicted=901.480608, expected=878.000000\n",
            "predicted=879.525193, expected=799.000000\n",
            "predicted=806.759503, expected=842.000000\n",
            "predicted=838.194469, expected=951.000000\n",
            "predicted=938.610165, expected=929.000000\n",
            "predicted=928.636285, expected=985.000000\n",
            "predicted=978.052509, expected=964.000000\n",
            "predicted=963.881927, expected=948.000000\n",
            "predicted=948.347597, expected=916.000000\n",
            "predicted=918.105356, expected=970.000000\n",
            "predicted=963.628046, expected=1070.000000\n",
            "predicted=1057.393617, expected=1028.000000\n",
            "predicted=1028.938284, expected=1055.000000\n",
            "predicted=1050.389044, expected=1098.000000\n",
            "predicted=1091.047179, expected=1072.000000\n",
            "predicted=1071.578774, expected=953.000000\n",
            "predicted=963.377183, expected=958.000000\n",
            "predicted=957.494299, expected=1045.000000\n",
            "predicted=1034.631808, expected=1062.000000\n",
            "predicted=1057.149708, expected=1026.000000\n",
            "predicted=1027.163504, expected=1056.000000\n",
            "predicted=1051.274258, expected=1048.000000\n",
            "predicted=1046.299145, expected=937.000000\n",
            "predicted=946.520625, expected=953.000000\n",
            "predicted=951.487641, expected=999.000000\n",
            "predicted=992.704446, expected=1016.000000\n",
            "predicted=1012.017332, expected=1090.000000\n",
            "predicted=1080.123556, expected=1039.000000\n",
            "predicted=1040.967094, expected=997.000000\n",
            "predicted=999.773838, expected=942.000000\n",
            "predicted=946.611266, expected=986.000000\n",
            "predicted=980.788157, expected=999.000000\n",
            "predicted=995.575371, expected=1020.000000\n",
            "predicted=1015.916011, expected=1116.000000\n",
            "predicted=1103.853138, expected=927.000000\n",
            "predicted=943.302610, expected=837.000000\n",
            "predicted=847.168293, expected=825.000000\n",
            "predicted=827.212744, expected=886.000000\n",
            "predicted=879.761637, expected=1046.000000\n",
            "predicted=1028.035124, expected=1213.000000\n",
            "predicted=1192.396670, expected=1330.000000\n",
            "predicted=1313.222147, expected=1136.000000\n",
            "predicted=1149.315945, expected=1142.000000\n",
            "predicted=1140.496881, expected=1067.000000\n",
            "predicted=1071.776698, expected=1157.000000\n",
            "predicted=1146.545892, expected=1389.000000\n",
            "predicted=1362.365453, expected=1320.000000\n",
            "predicted=1319.152509, expected=1183.000000\n",
            "predicted=1192.708324, expected=1215.000000\n",
            "predicted=1210.329930, expected=1106.000000\n",
            "predicted=1113.277474, expected=907.000000\n",
            "predicted=924.983005, expected=1245.000000\n",
            "predicted=1211.802880, expected=1251.000000\n",
            "predicted=1242.570885, expected=1269.000000\n",
            "predicted=1262.755495, expected=1261.000000\n",
            "predicted=1257.611528, expected=1201.000000\n",
            "predicted=1203.305736, expected=1144.000000\n",
            "predicted=1147.277743, expected=984.000000\n",
            "predicted=998.125712, expected=1161.000000\n",
            "predicted=1143.355539, expected=1261.000000\n",
            "predicted=1245.781175, expected=1274.000000\n",
            "predicted=1267.229325, expected=1286.000000\n",
            "predicted=1280.389703, expected=1175.000000\n",
            "predicted=1182.116237, expected=1077.000000\n",
            "predicted=1085.171002, expected=1017.000000\n",
            "predicted=1022.184635, expected=1109.000000\n",
            "predicted=1099.054819, expected=1269.000000\n",
            "predicted=1249.533495, expected=1239.000000\n",
            "predicted=1235.775422, expected=1309.000000\n",
            "predicted=1298.515024, expected=1236.000000\n",
            "predicted=1238.148891, expected=1153.000000\n",
            "predicted=1158.480569, expected=1079.000000\n",
            "predicted=1084.619546, expected=1212.000000\n",
            "predicted=1197.858995, expected=1479.000000\n",
            "predicted=1448.334925, expected=1253.000000\n",
            "predicted=1266.143928, expected=1255.000000\n",
            "predicted=1253.666709, expected=1312.000000\n",
            "predicted=1302.839810, expected=1301.000000\n",
            "predicted=1297.097390, expected=1218.000000\n",
            "predicted=1222.347970, expected=1318.000000\n",
            "predicted=1305.587718, expected=1567.000000\n",
            "predicted=1536.522679, expected=1486.000000\n",
            "predicted=1483.778474, expected=1534.000000\n",
            "predicted=1524.067663, expected=1338.000000\n",
            "predicted=1351.346967, expected=1148.000000\n",
            "predicted=1165.222205, expected=1173.000000\n",
            "predicted=1170.994037, expected=1247.000000\n",
            "predicted=1236.885358, expected=1277.000000\n",
            "predicted=1269.246094, expected=1207.000000\n",
            "predicted=1209.388998, expected=1257.000000\n",
            "predicted=1249.723877, expected=1133.000000\n",
            "predicted=1141.080760, expected=1177.000000\n",
            "predicted=1171.740296, expected=1112.000000\n",
            "predicted=1115.184914, expected=1244.000000\n",
            "predicted=1229.245643, expected=1295.000000\n",
            "predicted=1284.399695, expected=1226.000000\n",
            "predicted=1227.801377, expected=1165.000000\n",
            "predicted=1168.586892, expected=1298.000000\n",
            "predicted=1282.854547, expected=1098.000000\n",
            "predicted=1112.683966, expected=1055.000000\n",
            "predicted=1059.913852, expected=1293.000000\n",
            "predicted=1267.614402, expected=1273.000000\n",
            "predicted=1267.219667, expected=1142.000000\n",
            "predicted=1151.395116, expected=1162.000000\n",
            "predicted=1159.474837, expected=1247.000000\n",
            "predicted=1235.378092, expected=1256.000000\n",
            "predicted=1249.957707, expected=1194.000000\n",
            "predicted=1196.336118, expected=1252.000000\n",
            "predicted=1243.914799, expected=1379.000000\n",
            "predicted=1361.417655, expected=1334.000000\n",
            "predicted=1331.512829, expected=1289.000000\n",
            "predicted=1289.762444, expected=1187.000000\n",
            "predicted=1194.586804, expected=1146.000000\n",
            "predicted=1149.174450, expected=1084.000000\n",
            "predicted=1088.814756, expected=1063.000000\n",
            "predicted=1064.364250, expected=1075.000000\n",
            "predicted=1072.429932, expected=1043.000000\n",
            "predicted=1044.185899, expected=986.000000\n",
            "predicted=990.728434, expected=954.000000\n",
            "predicted=957.154214, expected=850.000000\n",
            "predicted=860.375920, expected=731.000000\n",
            "predicted=744.852873, expected=796.000000\n",
            "predicted=792.828140, expected=864.000000\n",
            "predicted=856.886828, expected=751.000000\n",
            "predicted=761.033575, expected=766.000000\n",
            "predicted=767.103161, expected=681.000000\n",
            "predicted=690.423845, expected=609.000000\n",
            "predicted=619.247067, expected=542.000000\n",
            "predicted=552.316445, expected=604.000000\n",
            "predicted=601.885950, expected=569.000000\n",
            "predicted=573.820115, expected=546.000000\n",
            "predicted=551.204498, expected=499.000000\n",
            "predicted=506.841331, expected=458.000000\n",
            "predicted=466.055124, expected=409.000000\n",
            "predicted=418.087057, expected=384.000000\n",
            "predicted=391.213670, expected=360.000000\n",
            "predicted=366.946869, expected=353.000000\n",
            "Test RMSE: 86.444\n"
          ],
          "name": "stdout"
        },
        {
          "output_type": "display_data",
          "data": {
            "image/png": "[encoded data removed]",
            "text/plain": [
              "<Figure size 432x288 with 1 Axes>"
            ]
          },
          "metadata": {
            "needs_background": "light"
          }
        }
      ]
    },
    {
      "cell_type": "code",
      "metadata": {
        "id": "1JTnDUVbNqWC"
      },
      "source": [
        ""
      ],
      "execution_count": null,
      "outputs": []
    },
    {
      "cell_type": "markdown",
      "metadata": {
        "id": "nxBS-NVSaWev"
      },
      "source": [
        "SARIMA"
      ]
    },
    {
      "cell_type": "code",
      "metadata": {
        "id": "b8GYZ63aaXQP",
        "colab": {
          "base_uri": "https://localhost:8080/",
          "height": 1000
        },
        "outputId": "d61af9ff-1223-436d-9769-084789edab91"
      },
      "source": [
        "from sklearn.metrics import mean_absolute_error ,mean_squared_error\n",
        "from math import sqrt\n",
        "from statsmodels.tsa.statespace.sarimax import SARIMAX\n",
        "\n",
        "X = cov_prl_.values\n",
        "size = int(len(X) * 0.66)\n",
        "train, test = X[0:size], X[size:len(X)]\n",
        "history = [x for x in train]\n",
        "predictions = list()\n",
        "print(len(train))\n",
        "print(len(test))\n",
        "# walk-forward validation\n",
        "for t in range(len(test)):\n",
        "\tmodel = SARIMAX(history, order=(2,1,0))\n",
        "\tmodel_fit = model.fit()\n",
        "\toutput = model_fit.forecast()\n",
        "\tyhat = output[0]\n",
        "\tpredictions.append(yhat)\n",
        "\tobs = test[t]\n",
        "\thistory.append(obs)\n",
        "\tprint('predicted=%f, expected=%f' % (np.round(yhat,0), obs))\n",
        "# evaluate forecasts\n",
        "print('MSE: %.3f' % mean_squared_error(test, predictions))\n",
        "rmse = sqrt(mean_squared_error(test, predictions))\n",
        "print('Test RMSE: %.3f' % rmse)\n",
        "# plot forecasts against actual outcomes\n",
        "pyplot.plot(test)\n",
        "pyplot.plot(predictions, color='red')\n",
        "pyplot.show()"
      ],
      "execution_count": null,
      "outputs": [
        {
          "output_type": "stream",
          "text": [
            "355\n",
            "183\n",
            "predicted=326.000000, expected=335.000000\n",
            "predicted=333.000000, expected=353.000000\n",
            "predicted=351.000000, expected=356.000000\n",
            "predicted=354.000000, expected=346.000000\n",
            "predicted=347.000000, expected=338.000000\n",
            "predicted=340.000000, expected=322.000000\n",
            "predicted=324.000000, expected=317.000000\n",
            "predicted=319.000000, expected=302.000000\n",
            "predicted=304.000000, expected=331.000000\n",
            "predicted=329.000000, expected=375.000000\n",
            "predicted=368.000000, expected=384.000000\n",
            "predicted=380.000000, expected=382.000000\n",
            "predicted=382.000000, expected=357.000000\n",
            "predicted=360.000000, expected=351.000000\n",
            "predicted=353.000000, expected=390.000000\n",
            "predicted=386.000000, expected=386.000000\n",
            "predicted=384.000000, expected=390.000000\n",
            "predicted=390.000000, expected=360.000000\n",
            "predicted=363.000000, expected=351.000000\n",
            "predicted=354.000000, expected=348.000000\n",
            "predicted=349.000000, expected=345.000000\n",
            "predicted=346.000000, expected=354.000000\n",
            "predicted=353.000000, expected=393.000000\n",
            "predicted=388.000000, expected=381.000000\n",
            "predicted=380.000000, expected=391.000000\n",
            "predicted=391.000000, expected=382.000000\n",
            "predicted=382.000000, expected=367.000000\n",
            "predicted=369.000000, expected=404.000000\n",
            "predicted=401.000000, expected=410.000000\n",
            "predicted=407.000000, expected=466.000000\n",
            "predicted=460.000000, expected=482.000000\n",
            "predicted=477.000000, expected=510.000000\n",
            "predicted=506.000000, expected=502.000000\n",
            "predicted=501.000000, expected=531.000000\n",
            "predicted=529.000000, expected=541.000000\n",
            "predicted=538.000000, expected=556.000000\n",
            "predicted=554.000000, expected=585.000000\n",
            "predicted=581.000000, expected=590.000000\n",
            "predicted=588.000000, expected=728.000000\n",
            "predicted=713.000000, expected=684.000000\n",
            "predicted=679.000000, expected=673.000000\n",
            "predicted=677.000000, expected=695.000000\n",
            "predicted=693.000000, expected=792.000000\n",
            "predicted=780.000000, expected=783.000000\n",
            "predicted=778.000000, expected=902.000000\n",
            "predicted=890.000000, expected=904.000000\n",
            "predicted=896.000000, expected=878.000000\n",
            "predicted=881.000000, expected=799.000000\n",
            "predicted=809.000000, expected=842.000000\n",
            "predicted=843.000000, expected=951.000000\n",
            "predicted=937.000000, expected=929.000000\n",
            "predicted=924.000000, expected=985.000000\n",
            "predicted=981.000000, expected=964.000000\n",
            "predicted=963.000000, expected=948.000000\n",
            "predicted=951.000000, expected=916.000000\n",
            "predicted=920.000000, expected=970.000000\n",
            "predicted=966.000000, expected=1070.000000\n",
            "predicted=1056.000000, expected=1028.000000\n",
            "predicted=1026.000000, expected=1055.000000\n",
            "predicted=1055.000000, expected=1098.000000\n",
            "predicted=1092.000000, expected=1072.000000\n",
            "predicted=1072.000000, expected=953.000000\n",
            "predicted=967.000000, expected=958.000000\n",
            "predicted=965.000000, expected=1045.000000\n",
            "predicted=1036.000000, expected=1062.000000\n",
            "predicted=1054.000000, expected=1026.000000\n",
            "predicted=1029.000000, expected=1056.000000\n",
            "predicted=1055.000000, expected=1048.000000\n",
            "predicted=1047.000000, expected=937.000000\n",
            "predicted=949.000000, expected=953.000000\n",
            "predicted=959.000000, expected=999.000000\n",
            "predicted=993.000000, expected=1016.000000\n",
            "predicted=1011.000000, expected=1090.000000\n",
            "predicted=1081.000000, expected=1039.000000\n",
            "predicted=1039.000000, expected=997.000000\n",
            "predicted=1005.000000, expected=942.000000\n",
            "predicted=951.000000, expected=986.000000\n",
            "predicted=985.000000, expected=999.000000\n",
            "predicted=995.000000, expected=1020.000000\n",
            "predicted=1017.000000, expected=1116.000000\n",
            "predicted=1105.000000, expected=927.000000\n",
            "predicted=940.000000, expected=837.000000\n",
            "predicted=859.000000, expected=825.000000\n",
            "predicted=832.000000, expected=886.000000\n",
            "predicted=881.000000, expected=1046.000000\n",
            "predicted=1026.000000, expected=1213.000000\n",
            "predicted=1186.000000, expected=1330.000000\n",
            "predicted=1308.000000, expected=1136.000000\n",
            "predicted=1147.000000, expected=1142.000000\n",
            "predicted=1155.000000, expected=1067.000000\n",
            "predicted=1074.000000, expected=1157.000000\n",
            "predicted=1153.000000, expected=1389.000000\n",
            "predicted=1361.000000, expected=1320.000000\n",
            "predicted=1311.000000, expected=1183.000000\n",
            "predicted=1201.000000, expected=1215.000000\n",
            "predicted=1222.000000, expected=1106.000000\n",
            "predicted=1114.000000, expected=907.000000\n",
            "predicted=934.000000, expected=1245.000000\n",
            "predicted=1226.000000, expected=1251.000000\n",
            "predicted=1225.000000, expected=1269.000000\n",
            "predicted=1267.000000, expected=1261.000000\n",
            "predicted=1260.000000, expected=1201.000000\n",
            "predicted=1208.000000, expected=1144.000000\n",
            "predicted=1154.000000, expected=984.000000\n",
            "predicted=1004.000000, expected=1161.000000\n",
            "predicted=1155.000000, expected=1261.000000\n",
            "predicted=1238.000000, expected=1274.000000\n",
            "predicted=1265.000000, expected=1286.000000\n",
            "predicted=1284.000000, expected=1175.000000\n",
            "predicted=1185.000000, expected=1077.000000\n",
            "predicted=1095.000000, expected=1017.000000\n",
            "predicted=1030.000000, expected=1109.000000\n",
            "predicted=1104.000000, expected=1269.000000\n",
            "predicted=1247.000000, expected=1239.000000\n",
            "predicted=1230.000000, expected=1309.000000\n",
            "predicted=1304.000000, expected=1236.000000\n",
            "predicted=1238.000000, expected=1153.000000\n",
            "predicted=1166.000000, expected=1079.000000\n",
            "predicted=1092.000000, expected=1212.000000\n",
            "predicted=1205.000000, expected=1479.000000\n",
            "predicted=1444.000000, expected=1253.000000\n",
            "predicted=1254.000000, expected=1255.000000\n",
            "predicted=1273.000000, expected=1312.000000\n",
            "predicted=1306.000000, expected=1301.000000\n",
            "predicted=1297.000000, expected=1218.000000\n",
            "predicted=1227.000000, expected=1318.000000\n",
            "predicted=1315.000000, expected=1567.000000\n",
            "predicted=1535.000000, expected=1486.000000\n",
            "predicted=1473.000000, expected=1534.000000\n",
            "predicted=1536.000000, expected=1338.000000\n",
            "predicted=1354.000000, expected=1148.000000\n",
            "predicted=1182.000000, expected=1173.000000\n",
            "predicted=1186.000000, expected=1247.000000\n",
            "predicted=1238.000000, expected=1277.000000\n",
            "predicted=1268.000000, expected=1207.000000\n",
            "predicted=1211.000000, expected=1257.000000\n",
            "predicted=1258.000000, expected=1133.000000\n",
            "predicted=1141.000000, expected=1177.000000\n",
            "predicted=1183.000000, expected=1112.000000\n",
            "predicted=1115.000000, expected=1244.000000\n",
            "predicted=1236.000000, expected=1295.000000\n",
            "predicted=1279.000000, expected=1226.000000\n",
            "predicted=1229.000000, expected=1165.000000\n",
            "predicted=1177.000000, expected=1298.000000\n",
            "predicted=1290.000000, expected=1098.000000\n",
            "predicted=1107.000000, expected=1055.000000\n",
            "predicted=1076.000000, expected=1293.000000\n",
            "predicted=1273.000000, expected=1273.000000\n",
            "predicted=1254.000000, expected=1142.000000\n",
            "predicted=1157.000000, expected=1162.000000\n",
            "predicted=1172.000000, expected=1247.000000\n",
            "predicted=1237.000000, expected=1256.000000\n",
            "predicted=1247.000000, expected=1194.000000\n",
            "predicted=1199.000000, expected=1252.000000\n",
            "predicted=1252.000000, expected=1379.000000\n",
            "predicted=1361.000000, expected=1334.000000\n",
            "predicted=1327.000000, expected=1289.000000\n",
            "predicted=1298.000000, expected=1187.000000\n",
            "predicted=1201.000000, expected=1146.000000\n",
            "predicted=1159.000000, expected=1084.000000\n",
            "predicted=1094.000000, expected=1063.000000\n",
            "predicted=1071.000000, expected=1075.000000\n",
            "predicted=1076.000000, expected=1043.000000\n",
            "predicted=1045.000000, expected=986.000000\n",
            "predicted=994.000000, expected=954.000000\n",
            "predicted=962.000000, expected=850.000000\n",
            "predicted=863.000000, expected=731.000000\n",
            "predicted=752.000000, expected=796.000000\n",
            "predicted=800.000000, expected=864.000000\n",
            "predicted=852.000000, expected=751.000000\n",
            "predicted=756.000000, expected=766.000000\n",
            "predicted=775.000000, expected=681.000000\n",
            "predicted=688.000000, expected=609.000000\n",
            "predicted=624.000000, expected=542.000000\n",
            "predicted=555.000000, expected=604.000000\n",
            "predicted=604.000000, expected=569.000000\n",
            "predicted=567.000000, expected=546.000000\n",
            "predicted=551.000000, expected=499.000000\n",
            "predicted=506.000000, expected=458.000000\n",
            "predicted=466.000000, expected=409.000000\n",
            "predicted=417.000000, expected=384.000000\n",
            "predicted=391.000000, expected=360.000000\n",
            "predicted=364.000000, expected=353.000000\n",
            "MSE: 7348.646\n",
            "Test RMSE: 85.724\n"
          ],
          "name": "stdout"
        },
        {
          "output_type": "display_data",
          "data": {
            "image/png": "[encoded data removed]",
            "text/plain": [
              "<Figure size 432x288 with 1 Axes>"
            ]
          },
          "metadata": {
            "needs_background": "light"
          }
        }
      ]
    },
    {
      "cell_type": "code",
      "metadata": {
        "id": "Qlhs-0KHaYtD"
      },
      "source": [
        ""
      ],
      "execution_count": null,
      "outputs": []
    },
    {
      "cell_type": "code",
      "metadata": {
        "id": "DBu1AyezGpel"
      },
      "source": [
        ""
      ],
      "execution_count": null,
      "outputs": []
    }
  ]
}